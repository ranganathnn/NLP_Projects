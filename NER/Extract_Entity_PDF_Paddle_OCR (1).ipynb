{
  "nbformat": 4,
  "nbformat_minor": 0,
  "metadata": {
    "colab": {
      "provenance": []
    },
    "kernelspec": {
      "name": "python3",
      "display_name": "Python 3"
    },
    "language_info": {
      "name": "python"
    }
  },
  "cells": [
    {
      "cell_type": "code",
      "execution_count": 22,
      "metadata": {
        "id": "VjOA_s0eQbog"
      },
      "outputs": [],
      "source": [
        "from PIL import Image\n",
        "import cv2\n",
        "import numpy as np\n",
        "import pandas as pd\n",
        "import tensorflow as tf"
      ]
    },
    {
      "cell_type": "code",
      "source": [
        "!pip install paddlepaddle-gpu==2.3.0.post110 -f https://www.paddlepaddle.org.cn/whl/linux/mkl/avx/stable.html\n",
        "#!python3 -m pip install paddlepaddle-gpu==2.0.2 -f https://paddlepaddle.org.cn/whl/stable/noavx.html\n",
        "!pip install pdf2image\n",
        "!apt-get update\n",
        "!apt-get install poppler-utils\n",
        "\n",
        "######Dont install#!python3 -m pip install paddlepaddle-gpu\n",
        "!python -m pip install --force-reinstall paddlepaddle==2.5\n",
        "\n",
        "!pip install \"paddleocr>=2.0.1\"\n",
        "#!pip install protobuf==3.20.0\n",
        "!git clone https://github.com/PaddlePaddle/PaddleOCR.git\n",
        "\n",
        "!wget https://paddleocr.bj.bcebos.com/whl/layoutparser-0.0.0-py3-none-any.whl\n",
        "!pip install -U layoutparser-0.0.0-py3-none-any.whl\n",
        "\n",
        "### Install first one if code doea not work install others\n",
        "!pip install protobuf==3.20.*\n",
        "#!pip install -U layoutparser-0.0.0-py3-none-any.whl\n",
        "#!wget https://www.openssl.org/source/openssl-1.1.1o.tar.gz\n",
        "#!wget http://nz2.archive.ubuntu.com/ubuntu/pool/main/o/openssl/libssl1.1_1.1.1f-1ubuntu2_amd64.deb\n",
        "#!sudo dpkg -i libssl1.1_1.1.1f-1ubuntu2_amd64.deb"
      ],
      "metadata": {
        "id": "4fMsJVVTQdTa",
        "colab": {
          "base_uri": "https://localhost:8080/",
          "height": 1000
        },
        "outputId": "d80d382e-78c0-4002-f69d-ba6bea3baa5b"
      },
      "execution_count": 28,
      "outputs": [
        {
          "output_type": "stream",
          "name": "stdout",
          "text": [
            "Looking in links: https://www.paddlepaddle.org.cn/whl/linux/mkl/avx/stable.html\n",
            "Requirement already satisfied: paddlepaddle-gpu==2.3.0.post110 in /usr/local/lib/python3.10/dist-packages (2.3.0.post110)\n",
            "Requirement already satisfied: requests>=2.20.0 in /usr/local/lib/python3.10/dist-packages (from paddlepaddle-gpu==2.3.0.post110) (2.31.0)\n",
            "Requirement already satisfied: numpy>=1.13 in /usr/local/lib/python3.10/dist-packages (from paddlepaddle-gpu==2.3.0.post110) (1.23.5)\n",
            "Requirement already satisfied: protobuf>=3.1.0 in /usr/local/lib/python3.10/dist-packages (from paddlepaddle-gpu==2.3.0.post110) (3.20.3)\n",
            "Requirement already satisfied: Pillow in /usr/local/lib/python3.10/dist-packages (from paddlepaddle-gpu==2.3.0.post110) (10.0.1)\n",
            "Requirement already satisfied: six in /usr/local/lib/python3.10/dist-packages (from paddlepaddle-gpu==2.3.0.post110) (1.16.0)\n",
            "Requirement already satisfied: decorator in /usr/local/lib/python3.10/dist-packages (from paddlepaddle-gpu==2.3.0.post110) (4.4.2)\n",
            "Requirement already satisfied: astor in /usr/local/lib/python3.10/dist-packages (from paddlepaddle-gpu==2.3.0.post110) (0.8.1)\n",
            "Requirement already satisfied: paddle-bfloat==0.1.2 in /usr/local/lib/python3.10/dist-packages (from paddlepaddle-gpu==2.3.0.post110) (0.1.2)\n",
            "Requirement already satisfied: opt-einsum==3.3.0 in /usr/local/lib/python3.10/dist-packages (from paddlepaddle-gpu==2.3.0.post110) (3.3.0)\n",
            "Requirement already satisfied: charset-normalizer<4,>=2 in /usr/local/lib/python3.10/dist-packages (from requests>=2.20.0->paddlepaddle-gpu==2.3.0.post110) (3.2.0)\n",
            "Requirement already satisfied: idna<4,>=2.5 in /usr/local/lib/python3.10/dist-packages (from requests>=2.20.0->paddlepaddle-gpu==2.3.0.post110) (3.4)\n",
            "Requirement already satisfied: urllib3<3,>=1.21.1 in /usr/local/lib/python3.10/dist-packages (from requests>=2.20.0->paddlepaddle-gpu==2.3.0.post110) (2.0.4)\n",
            "Requirement already satisfied: certifi>=2017.4.17 in /usr/local/lib/python3.10/dist-packages (from requests>=2.20.0->paddlepaddle-gpu==2.3.0.post110) (2023.7.22)\n",
            "Requirement already satisfied: pdf2image in /usr/local/lib/python3.10/dist-packages (1.16.3)\n",
            "Requirement already satisfied: pillow in /usr/local/lib/python3.10/dist-packages (from pdf2image) (10.0.1)\n",
            "Hit:1 https://cloud.r-project.org/bin/linux/ubuntu jammy-cran40/ InRelease\n",
            "Hit:2 https://developer.download.nvidia.com/compute/cuda/repos/ubuntu2204/x86_64  InRelease\n",
            "Hit:3 http://security.ubuntu.com/ubuntu jammy-security InRelease\n",
            "Hit:4 http://archive.ubuntu.com/ubuntu jammy InRelease\n",
            "Hit:5 http://archive.ubuntu.com/ubuntu jammy-updates InRelease\n",
            "Hit:6 http://archive.ubuntu.com/ubuntu jammy-backports InRelease\n",
            "Hit:7 https://ppa.launchpadcontent.net/c2d4u.team/c2d4u4.0+/ubuntu jammy InRelease\n",
            "Hit:8 https://ppa.launchpadcontent.net/deadsnakes/ppa/ubuntu jammy InRelease\n",
            "Hit:9 https://ppa.launchpadcontent.net/graphics-drivers/ppa/ubuntu jammy InRelease\n",
            "Hit:10 https://ppa.launchpadcontent.net/ubuntugis/ppa/ubuntu jammy InRelease\n",
            "Reading package lists... Done\n",
            "Reading package lists... Done\n",
            "Building dependency tree... Done\n",
            "Reading state information... Done\n",
            "poppler-utils is already the newest version (22.02.0-2ubuntu0.2).\n",
            "0 upgraded, 0 newly installed, 0 to remove and 19 not upgraded.\n",
            "Collecting paddlepaddle==2.5\n",
            "  Downloading paddlepaddle-2.5.0-cp310-cp310-manylinux1_x86_64.whl (124.9 MB)\n",
            "\u001b[2K     \u001b[90m━━━━━━━━━━━━━━━━━━━━━━━━━━━━━━━━━━━━━━━\u001b[0m \u001b[32m124.9/124.9 MB\u001b[0m \u001b[31m3.4 MB/s\u001b[0m eta \u001b[36m0:00:00\u001b[0m\n",
            "\u001b[?25hCollecting httpx (from paddlepaddle==2.5)\n",
            "  Downloading httpx-0.25.0-py3-none-any.whl (75 kB)\n",
            "\u001b[2K     \u001b[90m━━━━━━━━━━━━━━━━━━━━━━━━━━━━━━━━━━━━━━━━\u001b[0m \u001b[32m75.7/75.7 kB\u001b[0m \u001b[31m8.4 MB/s\u001b[0m eta \u001b[36m0:00:00\u001b[0m\n",
            "\u001b[?25hCollecting numpy>=1.13 (from paddlepaddle==2.5)\n",
            "  Downloading numpy-1.26.0-cp310-cp310-manylinux_2_17_x86_64.manylinux2014_x86_64.whl (18.2 MB)\n",
            "\u001b[2K     \u001b[90m━━━━━━━━━━━━━━━━━━━━━━━━━━━━━━━━━━━━━━━━\u001b[0m \u001b[32m18.2/18.2 MB\u001b[0m \u001b[31m67.1 MB/s\u001b[0m eta \u001b[36m0:00:00\u001b[0m\n",
            "\u001b[?25hCollecting Pillow (from paddlepaddle==2.5)\n",
            "  Using cached Pillow-10.0.1-cp310-cp310-manylinux_2_28_x86_64.whl (3.6 MB)\n",
            "Collecting decorator (from paddlepaddle==2.5)\n",
            "  Downloading decorator-5.1.1-py3-none-any.whl (9.1 kB)\n",
            "Collecting astor (from paddlepaddle==2.5)\n",
            "  Using cached astor-0.8.1-py2.py3-none-any.whl (27 kB)\n",
            "Collecting paddle-bfloat==0.1.7 (from paddlepaddle==2.5)\n",
            "  Downloading paddle_bfloat-0.1.7-cp310-cp310-manylinux_2_17_x86_64.manylinux2014_x86_64.whl (383 kB)\n",
            "\u001b[2K     \u001b[90m━━━━━━━━━━━━━━━━━━━━━━━━━━━━━━━━━━━━━━\u001b[0m \u001b[32m383.2/383.2 kB\u001b[0m \u001b[31m32.2 MB/s\u001b[0m eta \u001b[36m0:00:00\u001b[0m\n",
            "\u001b[?25hCollecting opt-einsum==3.3.0 (from paddlepaddle==2.5)\n",
            "  Downloading opt_einsum-3.3.0-py3-none-any.whl (65 kB)\n",
            "\u001b[2K     \u001b[90m━━━━━━━━━━━━━━━━━━━━━━━━━━━━━━━━━━━━━━━━\u001b[0m \u001b[32m65.5/65.5 kB\u001b[0m \u001b[31m6.9 MB/s\u001b[0m eta \u001b[36m0:00:00\u001b[0m\n",
            "\u001b[?25hCollecting protobuf>=3.20.2 (from paddlepaddle==2.5)\n",
            "  Downloading protobuf-4.24.3-cp37-abi3-manylinux2014_x86_64.whl (311 kB)\n",
            "\u001b[2K     \u001b[90m━━━━━━━━━━━━━━━━━━━━━━━━━━━━━━━━━━━━━━\u001b[0m \u001b[32m311.6/311.6 kB\u001b[0m \u001b[31m29.2 MB/s\u001b[0m eta \u001b[36m0:00:00\u001b[0m\n",
            "\u001b[?25hCollecting certifi (from httpx->paddlepaddle==2.5)\n",
            "  Downloading certifi-2023.7.22-py3-none-any.whl (158 kB)\n",
            "\u001b[2K     \u001b[90m━━━━━━━━━━━━━━━━━━━━━━━━━━━━━━━━━━━━━━\u001b[0m \u001b[32m158.3/158.3 kB\u001b[0m \u001b[31m16.8 MB/s\u001b[0m eta \u001b[36m0:00:00\u001b[0m\n",
            "\u001b[?25hCollecting httpcore<0.19.0,>=0.18.0 (from httpx->paddlepaddle==2.5)\n",
            "  Downloading httpcore-0.18.0-py3-none-any.whl (76 kB)\n",
            "\u001b[2K     \u001b[90m━━━━━━━━━━━━━━━━━━━━━━━━━━━━━━━━━━━━━━━━\u001b[0m \u001b[32m76.0/76.0 kB\u001b[0m \u001b[31m7.4 MB/s\u001b[0m eta \u001b[36m0:00:00\u001b[0m\n",
            "\u001b[?25hCollecting idna (from httpx->paddlepaddle==2.5)\n",
            "  Downloading idna-3.4-py3-none-any.whl (61 kB)\n",
            "\u001b[2K     \u001b[90m━━━━━━━━━━━━━━━━━━━━━━━━━━━━━━━━━━━━━━━━\u001b[0m \u001b[32m61.5/61.5 kB\u001b[0m \u001b[31m7.3 MB/s\u001b[0m eta \u001b[36m0:00:00\u001b[0m\n",
            "\u001b[?25hCollecting sniffio (from httpx->paddlepaddle==2.5)\n",
            "  Downloading sniffio-1.3.0-py3-none-any.whl (10 kB)\n",
            "Collecting anyio<5.0,>=3.0 (from httpcore<0.19.0,>=0.18.0->httpx->paddlepaddle==2.5)\n",
            "  Downloading anyio-4.0.0-py3-none-any.whl (83 kB)\n",
            "\u001b[2K     \u001b[90m━━━━━━━━━━━━━━━━━━━━━━━━━━━━━━━━━━━━━━━━\u001b[0m \u001b[32m83.1/83.1 kB\u001b[0m \u001b[31m6.2 MB/s\u001b[0m eta \u001b[36m0:00:00\u001b[0m\n",
            "\u001b[?25hCollecting h11<0.15,>=0.13 (from httpcore<0.19.0,>=0.18.0->httpx->paddlepaddle==2.5)\n",
            "  Downloading h11-0.14.0-py3-none-any.whl (58 kB)\n",
            "\u001b[2K     \u001b[90m━━━━━━━━━━━━━━━━━━━━━━━━━━━━━━━━━━━━━━━━\u001b[0m \u001b[32m58.3/58.3 kB\u001b[0m \u001b[31m5.7 MB/s\u001b[0m eta \u001b[36m0:00:00\u001b[0m\n",
            "\u001b[?25hCollecting exceptiongroup>=1.0.2 (from anyio<5.0,>=3.0->httpcore<0.19.0,>=0.18.0->httpx->paddlepaddle==2.5)\n",
            "  Downloading exceptiongroup-1.1.3-py3-none-any.whl (14 kB)\n",
            "Installing collected packages: paddle-bfloat, sniffio, protobuf, Pillow, numpy, idna, h11, exceptiongroup, decorator, certifi, astor, opt-einsum, anyio, httpcore, httpx, paddlepaddle\n",
            "  Attempting uninstall: paddle-bfloat\n",
            "    Found existing installation: paddle-bfloat 0.1.2\n",
            "    Uninstalling paddle-bfloat-0.1.2:\n",
            "      Successfully uninstalled paddle-bfloat-0.1.2\n",
            "  Attempting uninstall: sniffio\n",
            "    Found existing installation: sniffio 1.3.0\n",
            "    Uninstalling sniffio-1.3.0:\n",
            "      Successfully uninstalled sniffio-1.3.0\n",
            "  Attempting uninstall: protobuf\n",
            "    Found existing installation: protobuf 3.20.3\n",
            "    Uninstalling protobuf-3.20.3:\n",
            "      Successfully uninstalled protobuf-3.20.3\n",
            "  Attempting uninstall: Pillow\n",
            "    Found existing installation: Pillow 10.0.1\n",
            "    Uninstalling Pillow-10.0.1:\n",
            "      Successfully uninstalled Pillow-10.0.1\n",
            "  Attempting uninstall: numpy\n",
            "    Found existing installation: numpy 1.23.5\n",
            "    Uninstalling numpy-1.23.5:\n",
            "      Successfully uninstalled numpy-1.23.5\n",
            "  Attempting uninstall: idna\n",
            "    Found existing installation: idna 3.4\n",
            "    Uninstalling idna-3.4:\n",
            "      Successfully uninstalled idna-3.4\n",
            "  Attempting uninstall: exceptiongroup\n",
            "    Found existing installation: exceptiongroup 1.1.3\n",
            "    Uninstalling exceptiongroup-1.1.3:\n",
            "      Successfully uninstalled exceptiongroup-1.1.3\n",
            "  Attempting uninstall: decorator\n",
            "    Found existing installation: decorator 4.4.2\n",
            "    Uninstalling decorator-4.4.2:\n",
            "      Successfully uninstalled decorator-4.4.2\n",
            "  Attempting uninstall: certifi\n",
            "    Found existing installation: certifi 2023.7.22\n",
            "    Uninstalling certifi-2023.7.22:\n",
            "      Successfully uninstalled certifi-2023.7.22\n",
            "  Attempting uninstall: astor\n",
            "    Found existing installation: astor 0.8.1\n",
            "    Uninstalling astor-0.8.1:\n",
            "      Successfully uninstalled astor-0.8.1\n",
            "  Attempting uninstall: opt-einsum\n",
            "    Found existing installation: opt-einsum 3.3.0\n",
            "    Uninstalling opt-einsum-3.3.0:\n",
            "      Successfully uninstalled opt-einsum-3.3.0\n",
            "  Attempting uninstall: anyio\n",
            "    Found existing installation: anyio 3.7.1\n",
            "    Uninstalling anyio-3.7.1:\n",
            "      Successfully uninstalled anyio-3.7.1\n",
            "\u001b[31mERROR: pip's dependency resolver does not currently take into account all the packages that are installed. This behaviour is the source of the following dependency conflicts.\n",
            "ipython 7.34.0 requires jedi>=0.16, which is not installed.\n",
            "jupyter-server 1.24.0 requires anyio<4,>=3.1.0, but you have anyio 4.0.0 which is incompatible.\n",
            "moviepy 1.0.3 requires decorator<5.0,>=4.0.2, but you have decorator 5.1.1 which is incompatible.\n",
            "numba 0.56.4 requires numpy<1.24,>=1.18, but you have numpy 1.26.0 which is incompatible.\n",
            "paddlepaddle-gpu 2.3.0.post110 requires paddle-bfloat==0.1.2, but you have paddle-bfloat 0.1.7 which is incompatible.\n",
            "tensorflow 2.13.0 requires numpy<=1.24.3,>=1.22, but you have numpy 1.26.0 which is incompatible.\n",
            "tensorflow-metadata 1.14.0 requires protobuf<4.21,>=3.20.3, but you have protobuf 4.24.3 which is incompatible.\u001b[0m\u001b[31m\n",
            "\u001b[0mSuccessfully installed Pillow-10.0.1 anyio-4.0.0 astor-0.8.1 certifi-2023.7.22 decorator-5.1.1 exceptiongroup-1.1.3 h11-0.14.0 httpcore-0.18.0 httpx-0.25.0 idna-3.4 numpy-1.26.0 opt-einsum-3.3.0 paddle-bfloat-0.1.7 paddlepaddle-2.5.0 protobuf-4.24.3 sniffio-1.3.0\n",
            "Requirement already satisfied: paddleocr>=2.0.1 in /usr/local/lib/python3.10/dist-packages (2.7.0.3)\n",
            "Requirement already satisfied: shapely in /usr/local/lib/python3.10/dist-packages (from paddleocr>=2.0.1) (2.0.1)\n",
            "Requirement already satisfied: scikit-image in /usr/local/lib/python3.10/dist-packages (from paddleocr>=2.0.1) (0.19.3)\n",
            "Requirement already satisfied: imgaug in /usr/local/lib/python3.10/dist-packages (from paddleocr>=2.0.1) (0.4.0)\n",
            "Requirement already satisfied: pyclipper in /usr/local/lib/python3.10/dist-packages (from paddleocr>=2.0.1) (1.3.0.post5)\n",
            "Requirement already satisfied: lmdb in /usr/local/lib/python3.10/dist-packages (from paddleocr>=2.0.1) (1.4.1)\n",
            "Requirement already satisfied: tqdm in /usr/local/lib/python3.10/dist-packages (from paddleocr>=2.0.1) (4.66.1)\n",
            "Requirement already satisfied: numpy in /usr/local/lib/python3.10/dist-packages (from paddleocr>=2.0.1) (1.26.0)\n",
            "Requirement already satisfied: visualdl in /usr/local/lib/python3.10/dist-packages (from paddleocr>=2.0.1) (2.5.3)\n",
            "Requirement already satisfied: rapidfuzz in /usr/local/lib/python3.10/dist-packages (from paddleocr>=2.0.1) (3.3.0)\n",
            "Requirement already satisfied: opencv-python<=4.6.0.66 in /usr/local/lib/python3.10/dist-packages (from paddleocr>=2.0.1) (4.6.0.66)\n",
            "Requirement already satisfied: opencv-contrib-python<=4.6.0.66 in /usr/local/lib/python3.10/dist-packages (from paddleocr>=2.0.1) (4.6.0.66)\n",
            "Requirement already satisfied: cython in /usr/local/lib/python3.10/dist-packages (from paddleocr>=2.0.1) (3.0.2)\n",
            "Requirement already satisfied: lxml in /usr/local/lib/python3.10/dist-packages (from paddleocr>=2.0.1) (4.9.3)\n",
            "Requirement already satisfied: premailer in /usr/local/lib/python3.10/dist-packages (from paddleocr>=2.0.1) (3.10.0)\n",
            "Requirement already satisfied: openpyxl in /usr/local/lib/python3.10/dist-packages (from paddleocr>=2.0.1) (3.1.2)\n",
            "Requirement already satisfied: attrdict in /usr/local/lib/python3.10/dist-packages (from paddleocr>=2.0.1) (2.0.1)\n",
            "Requirement already satisfied: PyMuPDF<1.21.0 in /usr/local/lib/python3.10/dist-packages (from paddleocr>=2.0.1) (1.20.2)\n",
            "Requirement already satisfied: Pillow>=10.0.0 in /usr/local/lib/python3.10/dist-packages (from paddleocr>=2.0.1) (10.0.1)\n",
            "Requirement already satisfied: pyyaml in /usr/local/lib/python3.10/dist-packages (from paddleocr>=2.0.1) (6.0.1)\n",
            "Requirement already satisfied: python-docx in /usr/local/lib/python3.10/dist-packages (from paddleocr>=2.0.1) (0.8.11)\n",
            "Requirement already satisfied: beautifulsoup4 in /usr/local/lib/python3.10/dist-packages (from paddleocr>=2.0.1) (4.11.2)\n",
            "Requirement already satisfied: fonttools>=4.24.0 in /usr/local/lib/python3.10/dist-packages (from paddleocr>=2.0.1) (4.42.1)\n",
            "Requirement already satisfied: fire>=0.3.0 in /usr/local/lib/python3.10/dist-packages (from paddleocr>=2.0.1) (0.5.0)\n",
            "Requirement already satisfied: pdf2docx in /usr/local/lib/python3.10/dist-packages (from paddleocr>=2.0.1) (0.5.6)\n",
            "Requirement already satisfied: six in /usr/local/lib/python3.10/dist-packages (from fire>=0.3.0->paddleocr>=2.0.1) (1.16.0)\n",
            "Requirement already satisfied: termcolor in /usr/local/lib/python3.10/dist-packages (from fire>=0.3.0->paddleocr>=2.0.1) (2.3.0)\n",
            "Requirement already satisfied: soupsieve>1.2 in /usr/local/lib/python3.10/dist-packages (from beautifulsoup4->paddleocr>=2.0.1) (2.5)\n",
            "Requirement already satisfied: scipy in /usr/local/lib/python3.10/dist-packages (from imgaug->paddleocr>=2.0.1) (1.11.2)\n",
            "Requirement already satisfied: matplotlib in /usr/local/lib/python3.10/dist-packages (from imgaug->paddleocr>=2.0.1) (3.7.1)\n",
            "Requirement already satisfied: imageio in /usr/local/lib/python3.10/dist-packages (from imgaug->paddleocr>=2.0.1) (2.31.3)\n",
            "Requirement already satisfied: networkx>=2.2 in /usr/local/lib/python3.10/dist-packages (from scikit-image->paddleocr>=2.0.1) (3.1)\n",
            "Requirement already satisfied: tifffile>=2019.7.26 in /usr/local/lib/python3.10/dist-packages (from scikit-image->paddleocr>=2.0.1) (2023.8.30)\n",
            "Requirement already satisfied: PyWavelets>=1.1.1 in /usr/local/lib/python3.10/dist-packages (from scikit-image->paddleocr>=2.0.1) (1.4.1)\n",
            "Requirement already satisfied: packaging>=20.0 in /usr/local/lib/python3.10/dist-packages (from scikit-image->paddleocr>=2.0.1) (23.1)\n",
            "Requirement already satisfied: et-xmlfile in /usr/local/lib/python3.10/dist-packages (from openpyxl->paddleocr>=2.0.1) (1.1.0)\n",
            "Requirement already satisfied: cssselect in /usr/local/lib/python3.10/dist-packages (from premailer->paddleocr>=2.0.1) (1.2.0)\n",
            "Requirement already satisfied: cssutils in /usr/local/lib/python3.10/dist-packages (from premailer->paddleocr>=2.0.1) (2.7.1)\n",
            "Requirement already satisfied: requests in /usr/local/lib/python3.10/dist-packages (from premailer->paddleocr>=2.0.1) (2.31.0)\n",
            "Requirement already satisfied: cachetools in /usr/local/lib/python3.10/dist-packages (from premailer->paddleocr>=2.0.1) (5.3.1)\n",
            "Requirement already satisfied: bce-python-sdk in /usr/local/lib/python3.10/dist-packages (from visualdl->paddleocr>=2.0.1) (0.8.90)\n",
            "Requirement already satisfied: flask>=1.1.1 in /usr/local/lib/python3.10/dist-packages (from visualdl->paddleocr>=2.0.1) (2.2.5)\n",
            "Requirement already satisfied: Flask-Babel>=3.0.0 in /usr/local/lib/python3.10/dist-packages (from visualdl->paddleocr>=2.0.1) (3.1.0)\n",
            "Requirement already satisfied: protobuf>=3.20.0 in /usr/local/lib/python3.10/dist-packages (from visualdl->paddleocr>=2.0.1) (4.24.3)\n",
            "Requirement already satisfied: pandas in /usr/local/lib/python3.10/dist-packages (from visualdl->paddleocr>=2.0.1) (1.5.3)\n",
            "Requirement already satisfied: rarfile in /usr/local/lib/python3.10/dist-packages (from visualdl->paddleocr>=2.0.1) (4.1)\n",
            "Requirement already satisfied: psutil in /usr/local/lib/python3.10/dist-packages (from visualdl->paddleocr>=2.0.1) (5.9.5)\n",
            "Requirement already satisfied: Werkzeug>=2.2.2 in /usr/local/lib/python3.10/dist-packages (from flask>=1.1.1->visualdl->paddleocr>=2.0.1) (2.3.7)\n",
            "Requirement already satisfied: Jinja2>=3.0 in /usr/local/lib/python3.10/dist-packages (from flask>=1.1.1->visualdl->paddleocr>=2.0.1) (3.1.2)\n",
            "Requirement already satisfied: itsdangerous>=2.0 in /usr/local/lib/python3.10/dist-packages (from flask>=1.1.1->visualdl->paddleocr>=2.0.1) (2.1.2)\n",
            "Requirement already satisfied: click>=8.0 in /usr/local/lib/python3.10/dist-packages (from flask>=1.1.1->visualdl->paddleocr>=2.0.1) (8.1.7)\n",
            "Requirement already satisfied: Babel>=2.12 in /usr/local/lib/python3.10/dist-packages (from Flask-Babel>=3.0.0->visualdl->paddleocr>=2.0.1) (2.12.1)\n",
            "Requirement already satisfied: pytz>=2022.7 in /usr/local/lib/python3.10/dist-packages (from Flask-Babel>=3.0.0->visualdl->paddleocr>=2.0.1) (2023.3.post1)\n",
            "Requirement already satisfied: pycryptodome>=3.8.0 in /usr/local/lib/python3.10/dist-packages (from bce-python-sdk->visualdl->paddleocr>=2.0.1) (3.19.0)\n",
            "Requirement already satisfied: future>=0.6.0 in /usr/local/lib/python3.10/dist-packages (from bce-python-sdk->visualdl->paddleocr>=2.0.1) (0.18.3)\n",
            "Requirement already satisfied: contourpy>=1.0.1 in /usr/local/lib/python3.10/dist-packages (from matplotlib->imgaug->paddleocr>=2.0.1) (1.1.0)\n",
            "Requirement already satisfied: cycler>=0.10 in /usr/local/lib/python3.10/dist-packages (from matplotlib->imgaug->paddleocr>=2.0.1) (0.11.0)\n",
            "Requirement already satisfied: kiwisolver>=1.0.1 in /usr/local/lib/python3.10/dist-packages (from matplotlib->imgaug->paddleocr>=2.0.1) (1.4.5)\n",
            "Requirement already satisfied: pyparsing>=2.3.1 in /usr/local/lib/python3.10/dist-packages (from matplotlib->imgaug->paddleocr>=2.0.1) (3.1.1)\n",
            "Requirement already satisfied: python-dateutil>=2.7 in /usr/local/lib/python3.10/dist-packages (from matplotlib->imgaug->paddleocr>=2.0.1) (2.8.2)\n",
            "Requirement already satisfied: charset-normalizer<4,>=2 in /usr/local/lib/python3.10/dist-packages (from requests->premailer->paddleocr>=2.0.1) (3.2.0)\n",
            "Requirement already satisfied: idna<4,>=2.5 in /usr/local/lib/python3.10/dist-packages (from requests->premailer->paddleocr>=2.0.1) (3.4)\n",
            "Requirement already satisfied: urllib3<3,>=1.21.1 in /usr/local/lib/python3.10/dist-packages (from requests->premailer->paddleocr>=2.0.1) (2.0.4)\n",
            "Requirement already satisfied: certifi>=2017.4.17 in /usr/local/lib/python3.10/dist-packages (from requests->premailer->paddleocr>=2.0.1) (2023.7.22)\n",
            "Requirement already satisfied: MarkupSafe>=2.0 in /usr/local/lib/python3.10/dist-packages (from Jinja2>=3.0->flask>=1.1.1->visualdl->paddleocr>=2.0.1) (2.1.3)\n",
            "fatal: destination path 'PaddleOCR' already exists and is not an empty directory.\n",
            "--2023-09-22 16:22:56--  https://paddleocr.bj.bcebos.com/whl/layoutparser-0.0.0-py3-none-any.whl\n",
            "Resolving paddleocr.bj.bcebos.com (paddleocr.bj.bcebos.com)... 36.110.192.178, 2409:8c04:1001:1002:0:ff:b001:368a\n",
            "Connecting to paddleocr.bj.bcebos.com (paddleocr.bj.bcebos.com)|36.110.192.178|:443... connected.\n",
            "HTTP request sent, awaiting response... 200 OK\n",
            "Length: 19145360 (18M) [application/octet-stream]\n",
            "Saving to: ‘layoutparser-0.0.0-py3-none-any.whl.2’\n",
            "\n",
            "layoutparser-0.0.0- 100%[===================>]  18.26M  4.57MB/s    in 4.4s    \n",
            "\n",
            "2023-09-22 16:23:01 (4.14 MB/s) - ‘layoutparser-0.0.0-py3-none-any.whl.2’ saved [19145360/19145360]\n",
            "\n",
            "Processing ./layoutparser-0.0.0-py3-none-any.whl\n",
            "Requirement already satisfied: numpy in /usr/local/lib/python3.10/dist-packages (from layoutparser==0.0.0) (1.26.0)\n",
            "Requirement already satisfied: opencv-python in /usr/local/lib/python3.10/dist-packages (from layoutparser==0.0.0) (4.6.0.66)\n",
            "Requirement already satisfied: pandas in /usr/local/lib/python3.10/dist-packages (from layoutparser==0.0.0) (1.5.3)\n",
            "Requirement already satisfied: pillow in /usr/local/lib/python3.10/dist-packages (from layoutparser==0.0.0) (10.0.1)\n",
            "Requirement already satisfied: pyyaml>=5.1 in /usr/local/lib/python3.10/dist-packages (from layoutparser==0.0.0) (6.0.1)\n",
            "Requirement already satisfied: iopath in /usr/local/lib/python3.10/dist-packages (from layoutparser==0.0.0) (0.1.10)\n",
            "Requirement already satisfied: tqdm in /usr/local/lib/python3.10/dist-packages (from layoutparser==0.0.0) (4.66.1)\n",
            "Requirement already satisfied: typing-extensions in /usr/local/lib/python3.10/dist-packages (from iopath->layoutparser==0.0.0) (4.5.0)\n",
            "Requirement already satisfied: portalocker in /usr/local/lib/python3.10/dist-packages (from iopath->layoutparser==0.0.0) (2.8.2)\n",
            "Requirement already satisfied: python-dateutil>=2.8.1 in /usr/local/lib/python3.10/dist-packages (from pandas->layoutparser==0.0.0) (2.8.2)\n",
            "Requirement already satisfied: pytz>=2020.1 in /usr/local/lib/python3.10/dist-packages (from pandas->layoutparser==0.0.0) (2023.3.post1)\n",
            "Requirement already satisfied: six>=1.5 in /usr/local/lib/python3.10/dist-packages (from python-dateutil>=2.8.1->pandas->layoutparser==0.0.0) (1.16.0)\n",
            "layoutparser is already installed with the same version as the provided wheel. Use --force-reinstall to force an installation of the wheel.\n",
            "Collecting protobuf==3.20.*\n",
            "  Downloading protobuf-3.20.3-cp310-cp310-manylinux_2_12_x86_64.manylinux2010_x86_64.whl (1.1 MB)\n",
            "\u001b[2K     \u001b[90m━━━━━━━━━━━━━━━━━━━━━━━━━━━━━━━━━━━━━━━━\u001b[0m \u001b[32m1.1/1.1 MB\u001b[0m \u001b[31m11.4 MB/s\u001b[0m eta \u001b[36m0:00:00\u001b[0m\n",
            "\u001b[?25hInstalling collected packages: protobuf\n",
            "  Attempting uninstall: protobuf\n",
            "    Found existing installation: protobuf 4.24.3\n",
            "    Uninstalling protobuf-4.24.3:\n",
            "      Successfully uninstalled protobuf-4.24.3\n",
            "\u001b[31mERROR: pip's dependency resolver does not currently take into account all the packages that are installed. This behaviour is the source of the following dependency conflicts.\n",
            "paddlepaddle-gpu 2.3.0.post110 requires paddle-bfloat==0.1.2, but you have paddle-bfloat 0.1.7 which is incompatible.\n",
            "tensorflow 2.13.0 requires numpy<=1.24.3,>=1.22, but you have numpy 1.26.0 which is incompatible.\u001b[0m\u001b[31m\n",
            "\u001b[0mSuccessfully installed protobuf-3.20.3\n"
          ]
        },
        {
          "output_type": "display_data",
          "data": {
            "application/vnd.colab-display-data+json": {
              "pip_warning": {
                "packages": [
                  "google"
                ]
              }
            }
          },
          "metadata": {}
        }
      ]
    },
    {
      "cell_type": "code",
      "source": [
        "\n"
      ],
      "metadata": {
        "colab": {
          "base_uri": "https://localhost:8080/"
        },
        "id": "xJ6OznkgqW7q",
        "outputId": "bd0ad43a-4de0-45d8-fd43-987a4be9321b"
      },
      "execution_count": 18,
      "outputs": [
        {
          "output_type": "stream",
          "name": "stdout",
          "text": [
            "Processing ./layoutparser-0.0.0-py3-none-any.whl\n",
            "Requirement already satisfied: numpy in /usr/local/lib/python3.10/dist-packages (from layoutparser==0.0.0) (1.23.5)\n",
            "Requirement already satisfied: opencv-python in /usr/local/lib/python3.10/dist-packages (from layoutparser==0.0.0) (4.6.0.66)\n",
            "Requirement already satisfied: pandas in /usr/local/lib/python3.10/dist-packages (from layoutparser==0.0.0) (1.5.3)\n",
            "Requirement already satisfied: pillow in /usr/local/lib/python3.10/dist-packages (from layoutparser==0.0.0) (10.0.1)\n",
            "Requirement already satisfied: pyyaml>=5.1 in /usr/local/lib/python3.10/dist-packages (from layoutparser==0.0.0) (6.0.1)\n",
            "Collecting iopath (from layoutparser==0.0.0)\n",
            "  Downloading iopath-0.1.10.tar.gz (42 kB)\n",
            "\u001b[2K     \u001b[90m━━━━━━━━━━━━━━━━━━━━━━━━━━━━━━━━━━━━━━━━\u001b[0m \u001b[32m42.2/42.2 kB\u001b[0m \u001b[31m1.3 MB/s\u001b[0m eta \u001b[36m0:00:00\u001b[0m\n",
            "\u001b[?25h  Preparing metadata (setup.py) ... \u001b[?25l\u001b[?25hdone\n",
            "Requirement already satisfied: tqdm in /usr/local/lib/python3.10/dist-packages (from layoutparser==0.0.0) (4.66.1)\n",
            "Requirement already satisfied: typing_extensions in /usr/local/lib/python3.10/dist-packages (from iopath->layoutparser==0.0.0) (4.5.0)\n",
            "Collecting portalocker (from iopath->layoutparser==0.0.0)\n",
            "  Downloading portalocker-2.8.2-py3-none-any.whl (17 kB)\n",
            "Requirement already satisfied: python-dateutil>=2.8.1 in /usr/local/lib/python3.10/dist-packages (from pandas->layoutparser==0.0.0) (2.8.2)\n",
            "Requirement already satisfied: pytz>=2020.1 in /usr/local/lib/python3.10/dist-packages (from pandas->layoutparser==0.0.0) (2023.3.post1)\n",
            "Requirement already satisfied: six>=1.5 in /usr/local/lib/python3.10/dist-packages (from python-dateutil>=2.8.1->pandas->layoutparser==0.0.0) (1.16.0)\n",
            "Building wheels for collected packages: iopath\n",
            "  Building wheel for iopath (setup.py) ... \u001b[?25l\u001b[?25hdone\n",
            "  Created wheel for iopath: filename=iopath-0.1.10-py3-none-any.whl size=31530 sha256=264d7892dbe6d33981e9b3bb7670cd9d060fc9d77bf408fcd4a610ec2ed97f80\n",
            "  Stored in directory: /root/.cache/pip/wheels/9a/a3/b6/ac0fcd1b4ed5cfeb3db92e6a0e476cfd48ed0df92b91080c1d\n",
            "Successfully built iopath\n",
            "Installing collected packages: portalocker, iopath, layoutparser\n",
            "Successfully installed iopath-0.1.10 layoutparser-0.0.0 portalocker-2.8.2\n"
          ]
        }
      ]
    },
    {
      "cell_type": "code",
      "source": [
        "from pdf2image import convert_from_path"
      ],
      "metadata": {
        "id": "kfLmxB5VQnxQ"
      },
      "execution_count": 1,
      "outputs": []
    },
    {
      "cell_type": "code",
      "source": [
        "#from google.colab import files\n",
        "#uploaded = files.upload()"
      ],
      "metadata": {
        "id": "Nvi2xRmPQqRo"
      },
      "execution_count": 2,
      "outputs": []
    },
    {
      "cell_type": "code",
      "source": [
        "images = convert_from_path('/content/data/pI - 2023-08-31T064223.490.pdf')"
      ],
      "metadata": {
        "id": "AfOQgEvQQtV6"
      },
      "execution_count": 3,
      "outputs": []
    },
    {
      "cell_type": "code",
      "source": [
        "!mkdir pages"
      ],
      "metadata": {
        "id": "j0MEFrfwRhMY",
        "colab": {
          "base_uri": "https://localhost:8080/"
        },
        "outputId": "93a0da59-4b25-4cc8-eaaf-7147aa03e935"
      },
      "execution_count": 4,
      "outputs": [
        {
          "output_type": "stream",
          "name": "stdout",
          "text": [
            "mkdir: cannot create directory ‘pages’: File exists\n"
          ]
        }
      ]
    },
    {
      "cell_type": "code",
      "source": [
        "for i in range(len(images)):\n",
        "  images[i].save('pages/page'+str(i)+'.jpg', 'JPEG')"
      ],
      "metadata": {
        "id": "ucowKnw_Rnun"
      },
      "execution_count": 5,
      "outputs": []
    },
    {
      "cell_type": "code",
      "source": [],
      "metadata": {
        "id": "5vBf_LUXU0pb"
      },
      "execution_count": 5,
      "outputs": []
    },
    {
      "cell_type": "code",
      "source": [
        "import cv2\n",
        "import layoutparser as lp\n",
        "image = cv2.imread(\"/content/pages/page0.jpg\")\n",
        "\n",
        "image = image[..., ::-1]\n",
        "\n",
        "# load model\n",
        "model = lp.PaddleDetectionLayoutModel(config_path=\"lp://PubLayNet/ppyolov2_r50vd_dcn_365e_publaynet/config\",\n",
        "                                threshold=0.5,\n",
        "                                #label_map={0:\"table\"},\n",
        "                                enforce_cpu=False,\n",
        "                                enable_mkldnn=True)#math kernel library\n",
        "# detect\n",
        "layout = model.detect(image)"
      ],
      "metadata": {
        "id": "8rvU5X1IR5x3",
        "colab": {
          "base_uri": "https://localhost:8080/"
        },
        "outputId": "8ab24439-af9c-40de-d362-81ee0ea6b157"
      },
      "execution_count": 6,
      "outputs": [
        {
          "output_type": "stream",
          "name": "stdout",
          "text": [
            "download https://paddle-model-ecology.bj.bcebos.com/model/layout-parser/ppyolov2_r50vd_dcn_365e_publaynet.tar to /root/.paddledet/inference_model/ppyolov2_r50vd_dcn_365e_publaynet/ppyolov2_r50vd_dcn_365e_publaynet_infer/ppyolov2_r50vd_dcn_365e_publaynet.tar\n"
          ]
        },
        {
          "output_type": "stream",
          "name": "stderr",
          "text": [
            "100%|██████████| 221M/221M [00:06<00:00, 36.6MiB/s]\n"
          ]
        }
      ]
    },
    {
      "cell_type": "code",
      "source": [
        "layout"
      ],
      "metadata": {
        "colab": {
          "base_uri": "https://localhost:8080/"
        },
        "id": "mXz5WTzXY1YM",
        "outputId": "c5144b04-ed6f-438e-aab1-c6127dea04f7"
      },
      "execution_count": 7,
      "outputs": [
        {
          "output_type": "execute_result",
          "data": {
            "text/plain": [
              "Layout(_blocks=[TextBlock(block=Rectangle(x_1=71.61138916015625, y_1=14.5443115234375, x_2=1586.759521484375, y_2=2162.3544921875), text=None, id=None, type=Figure, parent=None, next=None, score=0.9283877015113831), TextBlock(block=Rectangle(x_1=79.14984130859375, y_1=1649.6763916015625, x_2=1073.70556640625, y_2=1679.0364990234375), text=None, id=None, type=Text, parent=None, next=None, score=0.6794461011886597)], page_data={})"
            ]
          },
          "metadata": {},
          "execution_count": 7
        }
      ]
    },
    {
      "cell_type": "code",
      "source": [
        "x_1=0\n",
        "y_1=0\n",
        "x_2=0\n",
        "y_2=0\n",
        "for l in layout:\n",
        "  #print(l)\n",
        "  if l.type == 'Figure':\n",
        "    x_1 = int(l.block.x_1)\n",
        "    print(l.block.x_1)\n",
        "    y_1 = int(l.block.y_1)\n",
        "    x_2 = int(l.block.x_2)\n",
        "    y_2 = int(l.block.y_2)\n",
        "\n",
        "    break"
      ],
      "metadata": {
        "colab": {
          "base_uri": "https://localhost:8080/"
        },
        "id": "41vdMFYLZ7Yj",
        "outputId": "117b2cc6-c3af-47e4-be34-3c93b450711d"
      },
      "execution_count": 8,
      "outputs": [
        {
          "output_type": "stream",
          "name": "stdout",
          "text": [
            "71.61139\n"
          ]
        }
      ]
    },
    {
      "cell_type": "code",
      "source": [
        "im = cv2.imread('/content/pages/page0.jpg')"
      ],
      "metadata": {
        "id": "rGKIpeXka4xU"
      },
      "execution_count": 9,
      "outputs": []
    },
    {
      "cell_type": "code",
      "source": [
        "cv2.imwrite('ext_im.jpg', im[y_1:y_2,x_1:x_2])"
      ],
      "metadata": {
        "colab": {
          "base_uri": "https://localhost:8080/"
        },
        "id": "H8oPoa1-bTU7",
        "outputId": "0fd52581-f458-4b49-d7f0-fe297b63a806"
      },
      "execution_count": 10,
      "outputs": [
        {
          "output_type": "execute_result",
          "data": {
            "text/plain": [
              "True"
            ]
          },
          "metadata": {},
          "execution_count": 10
        }
      ]
    },
    {
      "cell_type": "code",
      "source": [
        "from paddleocr import PaddleOCR, draw_ocr"
      ],
      "metadata": {
        "id": "NI0QoqL2bZh7"
      },
      "execution_count": 11,
      "outputs": []
    },
    {
      "cell_type": "code",
      "source": [
        "ocr = PaddleOCR(lang='en')\n",
        "image_path = '/content/ext_im.jpg'\n",
        "image_cv = cv2.imread(image_path)\n",
        "image_height = image_cv.shape[0]\n",
        "image_width = image_cv.shape[1]\n",
        "output = ocr.ocr(image_path)[0]"
      ],
      "metadata": {
        "colab": {
          "base_uri": "https://localhost:8080/"
        },
        "id": "SKiieT70dekC",
        "outputId": "9ba0ada5-76b0-45dd-e16a-a76d0fa74a5f"
      },
      "execution_count": 12,
      "outputs": [
        {
          "output_type": "stream",
          "name": "stdout",
          "text": [
            "download https://paddleocr.bj.bcebos.com/PP-OCRv3/english/en_PP-OCRv3_det_infer.tar to /root/.paddleocr/whl/det/en/en_PP-OCRv3_det_infer/en_PP-OCRv3_det_infer.tar\n"
          ]
        },
        {
          "output_type": "stream",
          "name": "stderr",
          "text": [
            "100%|██████████| 4.00M/4.00M [00:00<00:00, 7.08MiB/s]\n"
          ]
        },
        {
          "output_type": "stream",
          "name": "stdout",
          "text": [
            "download https://paddleocr.bj.bcebos.com/PP-OCRv4/english/en_PP-OCRv4_rec_infer.tar to /root/.paddleocr/whl/rec/en/en_PP-OCRv4_rec_infer/en_PP-OCRv4_rec_infer.tar\n"
          ]
        },
        {
          "output_type": "stream",
          "name": "stderr",
          "text": [
            "100%|██████████| 10.2M/10.2M [00:00<00:00, 15.1MiB/s]\n"
          ]
        },
        {
          "output_type": "stream",
          "name": "stdout",
          "text": [
            "download https://paddleocr.bj.bcebos.com/dygraph_v2.0/ch/ch_ppocr_mobile_v2.0_cls_infer.tar to /root/.paddleocr/whl/cls/ch_ppocr_mobile_v2.0_cls_infer/ch_ppocr_mobile_v2.0_cls_infer.tar\n"
          ]
        },
        {
          "output_type": "stream",
          "name": "stderr",
          "text": [
            "100%|██████████| 2.19M/2.19M [00:00<00:00, 4.76MiB/s]"
          ]
        },
        {
          "output_type": "stream",
          "name": "stdout",
          "text": [
            "[2023/09/22 16:24:28] ppocr DEBUG: Namespace(help='==SUPPRESS==', use_gpu=False, use_xpu=False, use_npu=False, ir_optim=True, use_tensorrt=False, min_subgraph_size=15, precision='fp32', gpu_mem=500, gpu_id=0, image_dir=None, page_num=0, det_algorithm='DB', det_model_dir='/root/.paddleocr/whl/det/en/en_PP-OCRv3_det_infer', det_limit_side_len=960, det_limit_type='max', det_box_type='quad', det_db_thresh=0.3, det_db_box_thresh=0.6, det_db_unclip_ratio=1.5, max_batch_size=10, use_dilation=False, det_db_score_mode='fast', det_east_score_thresh=0.8, det_east_cover_thresh=0.1, det_east_nms_thresh=0.2, det_sast_score_thresh=0.5, det_sast_nms_thresh=0.2, det_pse_thresh=0, det_pse_box_thresh=0.85, det_pse_min_area=16, det_pse_scale=1, scales=[8, 16, 32], alpha=1.0, beta=1.0, fourier_degree=5, rec_algorithm='SVTR_LCNet', rec_model_dir='/root/.paddleocr/whl/rec/en/en_PP-OCRv4_rec_infer', rec_image_inverse=True, rec_image_shape='3, 48, 320', rec_batch_num=6, max_text_length=25, rec_char_dict_path='/usr/local/lib/python3.10/dist-packages/paddleocr/ppocr/utils/en_dict.txt', use_space_char=True, vis_font_path='./doc/fonts/simfang.ttf', drop_score=0.5, e2e_algorithm='PGNet', e2e_model_dir=None, e2e_limit_side_len=768, e2e_limit_type='max', e2e_pgnet_score_thresh=0.5, e2e_char_dict_path='./ppocr/utils/ic15_dict.txt', e2e_pgnet_valid_set='totaltext', e2e_pgnet_mode='fast', use_angle_cls=False, cls_model_dir='/root/.paddleocr/whl/cls/ch_ppocr_mobile_v2.0_cls_infer', cls_image_shape='3, 48, 192', label_list=['0', '180'], cls_batch_num=6, cls_thresh=0.9, enable_mkldnn=False, cpu_threads=10, use_pdserving=False, warmup=False, sr_model_dir=None, sr_image_shape='3, 32, 128', sr_batch_num=1, draw_img_save_dir='./inference_results', save_crop_res=False, crop_res_save_dir='./output', use_mp=False, total_process_num=1, process_id=0, benchmark=False, save_log_path='./log_output/', show_log=True, use_onnx=False, output='./output', table_max_len=488, table_algorithm='TableAttn', table_model_dir=None, merge_no_span_structure=True, table_char_dict_path=None, layout_model_dir=None, layout_dict_path=None, layout_score_threshold=0.5, layout_nms_threshold=0.5, kie_algorithm='LayoutXLM', ser_model_dir=None, re_model_dir=None, use_visual_backbone=True, ser_dict_path='../train_data/XFUND/class_list_xfun.txt', ocr_order_method=None, mode='structure', image_orientation=False, layout=True, table=True, ocr=True, recovery=False, use_pdf2docx_api=False, invert=False, binarize=False, alphacolor=(255, 255, 255), lang='en', det=True, rec=True, type='ocr', ocr_version='PP-OCRv4', structure_version='PP-StructureV2')\n"
          ]
        },
        {
          "output_type": "stream",
          "name": "stderr",
          "text": [
            "\n"
          ]
        },
        {
          "output_type": "stream",
          "name": "stdout",
          "text": [
            "[2023/09/22 16:24:29] ppocr WARNING: Since the angle classifier is not initialized, it will not be used during the forward process\n",
            "[2023/09/22 16:24:31] ppocr DEBUG: dt_boxes num : 284, elapsed : 1.159461498260498\n",
            "[2023/09/22 16:25:20] ppocr DEBUG: rec_res num  : 284, elapsed : 49.4906165599823\n"
          ]
        }
      ]
    },
    {
      "cell_type": "code",
      "source": [
        "print(output)"
      ],
      "metadata": {
        "colab": {
          "base_uri": "https://localhost:8080/"
        },
        "id": "-sxsggrldgL6",
        "outputId": "e351e17c-ac92-4cb5-c6fe-8ab72b7d65f9"
      },
      "execution_count": 13,
      "outputs": [
        {
          "output_type": "stream",
          "name": "stdout",
          "text": [
            "[[[[613.0, 31.0], [755.0, 31.0], [755.0, 56.0], [613.0, 56.0]], ('Tax Invoice', 0.9908809661865234)], [[[162.0, 54.0], [201.0, 54.0], [201.0, 78.0], [162.0, 78.0]], ('SRI', 0.9911784529685974)], [[[1068.0, 100.0], [1232.0, 106.0], [1230.0, 159.0], [1066.0, 154.0]], ('fssal', 0.8870811462402344)], [[[58.0, 150.0], [293.0, 145.0], [293.0, 183.0], [59.0, 188.0]], ('BHAGYALAKSHM', 0.9222421646118164)], [[[1051.0, 168.0], [1432.0, 170.0], [1431.0, 201.0], [1051.0, 199.0]], ('FGL:ILR ECL (AL452/90-91', 0.9146592020988464)], [[[132.0, 250.0], [230.0, 255.0], [229.0, 280.0], [130.0, 275.0]], ('Since 1972', 0.955083966255188)], [[[7.0, 286.0], [129.0, 286.0], [129.0, 309.0], [7.0, 309.0]], ('Consignee', 0.998616099357605)], [[[183.0, 282.0], [417.0, 282.0], [417.0, 311.0], [183.0, 311.0]], ('Party Id:DST-0120', 0.96061772108078)], [[[676.0, 280.0], [778.0, 280.0], [778.0, 311.0], [676.0, 311.0]], ('Po No. :', 0.929901659488678)], [[[978.0, 284.0], [1109.0, 284.0], [1109.0, 309.0], [978.0, 309.0]], ('Lorry No. :', 0.9561765789985657)], [[[1202.0, 282.0], [1427.0, 282.0], [1427.0, 311.0], [1202.0, 311.0]], ('Invoice.no & Date :', 0.9946027994155884)], [[[7.0, 320.0], [507.0, 320.0], [507.0, 342.0], [7.0, 342.0]], ('SRIMATHRUCHAYA DISTRIBUTORS', 0.9840866327285767)], [[[976.0, 315.0], [1125.0, 315.0], [1125.0, 347.0], [976.0, 347.0]], ('KA01B2244', 0.9954554438591003)], [[[1202.0, 315.0], [1425.0, 315.0], [1425.0, 345.0], [1202.0, 345.0]], ('SBCC-2324-02446', 0.9973351955413818)], [[[7.0, 354.0], [167.0, 354.0], [167.0, 376.0], [7.0, 376.0]], ('KOLLEGAL', 0.998392641544342)], [[[679.0, 349.0], [789.0, 349.0], [789.0, 380.0], [679.0, 380.0]], ('Po Date :', 0.9134770631790161)], [[[1202.0, 349.0], [1427.0, 349.0], [1427.0, 378.0], [1202.0, 378.0]], ('30.08.2321:54:14', 0.9621326327323914)], [[[2.0, 383.0], [514.0, 385.0], [514.0, 416.0], [2.0, 414.0]], ('Bus Stand Road, KUC Complex, Kollegala', 0.9551432728767395)], [[[677.0, 382.0], [866.0, 387.0], [865.0, 419.0], [676.0, 414.0]], ('E-Way Bill No :', 0.8988162875175476)], [[[974.0, 387.0], [1071.0, 387.0], [1071.0, 418.0], [974.0, 418.0]], ('Driver :', 0.9732641577720642)], [[[1202.0, 387.0], [1299.0, 387.0], [1299.0, 418.0], [1202.0, 418.0]], ('GSTIN:', 0.9813428521156311)], [[[5.0, 418.0], [108.0, 418.0], [108.0, 450.0], [5.0, 450.0]], ('571201', 0.9991481900215149)], [[[679.0, 416.0], [850.0, 421.0], [849.0, 452.0], [678.0, 447.0]], ('171701721135', 0.999851405620575)], [[[974.0, 418.0], [1003.0, 418.0], [1003.0, 452.0], [974.0, 452.0]], ('A', 0.9967819452285767)], [[[1202.0, 416.0], [1457.0, 421.0], [1456.0, 452.0], [1201.0, 447.0]], ('29ACDPN2062N1ZA', 0.9984084367752075)], [[[2.0, 454.0], [302.0, 452.0], [302.0, 483.0], [2.0, 486.0]], ('Party Phone:9663191181', 0.9873079657554626)], [[[2.0, 482.0], [69.0, 489.0], [65.0, 522.0], [0.0, 516.0]], ('S.No', 0.9740054607391357)], [[[196.0, 492.0], [534.0, 492.0], [534.0, 515.0], [196.0, 515.0]], ('PRODUCT DESCRIPTION', 0.9623292684555054)], [[[706.0, 492.0], [773.0, 492.0], [773.0, 517.0], [706.0, 517.0]], ('HSN/', 0.9971799850463867)], [[[821.0, 490.0], [909.0, 490.0], [909.0, 521.0], [821.0, 521.0]], ('Qty.', 0.9543361663818359)], [[[897.0, 492.0], [1026.0, 492.0], [1026.0, 517.0], [897.0, 517.0]], ('Unit Rate', 0.9546597003936768)], [[[1051.0, 492.0], [1114.0, 492.0], [1114.0, 517.0], [1051.0, 517.0]], ('GST', 0.9958314895629883)], [[[1179.0, 488.0], [1244.0, 488.0], [1244.0, 521.0], [1179.0, 521.0]], ('GST', 0.9970033764839172)], [[[1353.0, 492.0], [1452.0, 492.0], [1452.0, 517.0], [1353.0, 517.0]], ('Amount', 0.9987189173698425)], [[[706.0, 518.0], [774.0, 524.0], [771.0, 558.0], [702.0, 552.0]], ('SAC', 0.9968221187591553)], [[[1060.0, 521.0], [1116.0, 521.0], [1116.0, 557.0], [1060.0, 557.0]], ('(%)', 0.8697921633720398)], [[[1184.0, 526.0], [1242.0, 526.0], [1242.0, 553.0], [1184.0, 553.0]], ('Amt', 0.9984676837921143)], [[[25.0, 703.0], [36.0, 703.0], [36.0, 718.0], [25.0, 718.0]], ('1', 0.9920846223831177)], [[[70.0, 696.0], [516.0, 696.0], [516.0, 725.0], [70.0, 725.0]], ('CHAKKI ATTA 500GMS X 40 PKTS', 0.9268236756324768)], [[[685.0, 696.0], [803.0, 696.0], [803.0, 727.0], [685.0, 727.0]], ('11010000', 0.9992945790290833)], [[[843.0, 696.0], [877.0, 696.0], [877.0, 727.0], [843.0, 727.0]], ('30', 0.9985202550888062)], [[[942.0, 694.0], [1028.0, 694.0], [1028.0, 727.0], [942.0, 727.0]], ('727.52', 0.9990434050559998)], [[[1093.0, 696.0], [1120.0, 696.0], [1120.0, 732.0], [1093.0, 732.0]], ('5', 0.999569833278656)], [[[1179.0, 696.0], [1287.0, 696.0], [1287.0, 727.0], [1179.0, 727.0]], ('1,091.00', 0.9965066909790039)], [[[1373.0, 696.0], [1490.0, 696.0], [1490.0, 727.0], [1373.0, 727.0]], ('21,826.00', 0.9945917129516602)], [[[23.0, 734.0], [43.0, 734.0], [43.0, 756.0], [23.0, 756.0]], ('2', 0.9971110820770264)], [[[70.0, 729.0], [469.0, 729.0], [469.0, 759.0], [70.0, 759.0]], ('CHAKKI ATTA 1 KG X 20 PKTS', 0.9201279878616333)], [[[685.0, 729.0], [803.0, 729.0], [803.0, 761.0], [685.0, 761.0]], ('11010000', 0.9990633130073547)], [[[843.0, 729.0], [879.0, 729.0], [879.0, 761.0], [843.0, 761.0]], ('20', 0.9984286427497864)], [[[942.0, 729.0], [1028.0, 729.0], [1028.0, 761.0], [942.0, 761.0]], ('727.52', 0.9998803734779358)], [[[1093.0, 727.0], [1123.0, 727.0], [1123.0, 763.0], [1093.0, 763.0]], ('5', 0.9991940855979919)], [[[1199.0, 729.0], [1287.0, 729.0], [1287.0, 761.0], [1199.0, 761.0]], ('728.00', 0.9364578127861023)], [[[1375.0, 729.0], [1492.0, 729.0], [1492.0, 761.0], [1375.0, 761.0]], ('14,550.00', 0.9971595406532288)], [[[23.0, 770.0], [41.0, 770.0], [41.0, 790.0], [23.0, 790.0]], ('3', 0.9983083009719849)], [[[70.0, 765.0], [455.0, 765.0], [455.0, 794.0], [70.0, 794.0]], ('CHAKKI ATTA 5 KG X 6PKTS', 0.9107990264892578)], [[[688.0, 767.0], [800.0, 767.0], [800.0, 792.0], [688.0, 792.0]], ('11010000', 0.9984779357910156)], [[[854.0, 765.0], [884.0, 765.0], [884.0, 797.0], [854.0, 797.0]], ('6', 0.9902200102806091)], [[[924.0, 765.0], [1028.0, 765.0], [1028.0, 797.0], [924.0, 797.0]], ('1,065.10', 0.9664421677589417)], [[[1093.0, 763.0], [1123.0, 763.0], [1123.0, 799.0], [1093.0, 799.0]], ('5', 0.9990065693855286)], [[[1199.0, 763.0], [1283.0, 763.0], [1283.0, 797.0], [1199.0, 797.0]], ('320.00', 0.9993873238563538)], [[[1386.0, 765.0], [1492.0, 765.0], [1492.0, 797.0], [1386.0, 797.0]], ('6,391.00', 0.9997171759605408)], [[[25.0, 808.0], [41.0, 808.0], [41.0, 823.0], [25.0, 823.0]], ('4', 0.9989270567893982)], [[[72.0, 803.0], [469.0, 803.0], [469.0, 826.0], [72.0, 826.0]], ('CHAKKIATTA 10KG X 3PKTS', 0.942970335483551)], [[[685.0, 799.0], [803.0, 799.0], [803.0, 830.0], [685.0, 830.0]], ('11010000', 0.9881214499473572)], [[[854.0, 799.0], [881.0, 799.0], [881.0, 832.0], [854.0, 832.0]], ('3', 0.999066174030304)], [[[924.0, 799.0], [1028.0, 799.0], [1028.0, 830.0], [924.0, 830.0]], ('1,065.10', 0.9889697432518005)], [[[1093.0, 799.0], [1120.0, 799.0], [1120.0, 832.0], [1093.0, 832.0]], ('5', 0.9995606541633606)], [[[1193.0, 799.0], [1283.0, 799.0], [1283.0, 830.0], [1193.0, 830.0]], ('160.00', 0.9963938593864441)], [[[1384.0, 799.0], [1492.0, 799.0], [1492.0, 830.0], [1384.0, 830.0]], ('3,195.00', 0.9803346991539001)], [[[70.0, 835.0], [579.0, 835.0], [579.0, 864.0], [70.0, 864.0]], ('JAGGERY POWDER 500 GMS X40 PKTS', 0.9310098886489868)], [[[685.0, 832.0], [803.0, 832.0], [803.0, 864.0], [685.0, 864.0]], ('17011310', 0.9993263483047485)], [[[924.0, 835.0], [1028.0, 835.0], [1028.0, 866.0], [924.0, 866.0]], ('1,118.00', 0.9952194690704346)], [[[1093.0, 830.0], [1120.0, 830.0], [1120.0, 866.0], [1093.0, 866.0]], ('5', 0.9992339611053467)], [[[1210.0, 827.0], [1284.0, 833.0], [1281.0, 867.0], [1208.0, 861.0]], ('56.00', 0.9980624914169312)], [[[23.0, 839.0], [43.0, 839.0], [43.0, 859.0], [23.0, 859.0]], ('5', 0.9997237324714661)], [[[857.0, 837.0], [877.0, 837.0], [877.0, 861.0], [857.0, 861.0]], ('1', 0.9984753727912903)], [[[1386.0, 835.0], [1492.0, 835.0], [1492.0, 866.0], [1386.0, 866.0]], ('1,118.00', 0.9516869783401489)], [[[685.0, 868.0], [803.0, 868.0], [803.0, 899.0], [685.0, 899.0]], ('11029022', 0.9997837543487549)], [[[845.0, 868.0], [881.0, 868.0], [881.0, 897.0], [845.0, 897.0]], ('10', 0.9985610246658325)], [[[942.0, 868.0], [1028.0, 868.0], [1028.0, 899.0], [942.0, 899.0]], ('732.29', 0.999156653881073)], [[[1093.0, 861.0], [1123.0, 861.0], [1123.0, 899.0], [1093.0, 899.0]], ('5', 0.9967184662818909)], [[[23.0, 873.0], [43.0, 873.0], [43.0, 895.0], [23.0, 895.0]], ('6', 0.9909692406654358)], [[[72.0, 873.0], [415.0, 873.0], [415.0, 895.0], [72.0, 895.0]], ('RICE FLOUR 1KGX20PKTS', 0.9634456634521484)], [[[1199.0, 868.0], [1285.0, 868.0], [1285.0, 899.0], [1199.0, 899.0]], ('366.00', 0.9987623691558838)], [[[1386.0, 868.0], [1492.0, 868.0], [1492.0, 899.0], [1386.0, 899.0]], ('7,323.00', 0.992754340171814)], [[[70.0, 904.0], [523.0, 904.0], [523.0, 933.0], [70.0, 933.0]], ('RICE FLOUR 500 GRAM SX40 PKTS', 0.9248949289321899)], [[[685.0, 904.0], [803.0, 904.0], [803.0, 935.0], [685.0, 935.0]], ('11029022', 0.9995909929275513)], [[[852.0, 902.0], [879.0, 902.0], [879.0, 938.0], [852.0, 938.0]], ('2', 0.9992969036102295)], [[[942.0, 904.0], [1028.0, 904.0], [1028.0, 935.0], [942.0, 935.0]], ('732.29', 0.9989997744560242)], [[[1096.0, 908.0], [1118.0, 908.0], [1118.0, 931.0], [1096.0, 931.0]], ('5', 0.9996013045310974)], [[[1213.0, 904.0], [1285.0, 904.0], [1285.0, 935.0], [1213.0, 935.0]], ('73.00', 0.9989230036735535)], [[[1386.0, 904.0], [1492.0, 904.0], [1492.0, 935.0], [1386.0, 935.0]], ('1,465.00', 0.991257905960083)], [[[1086.0, 925.0], [1112.0, 921.0], [1119.0, 963.0], [1092.0, 967.0]], ('5', 0.8552370667457581)], [[[23.0, 942.0], [41.0, 942.0], [41.0, 962.0], [23.0, 962.0]], ('8', 0.9966557025909424)], [[[68.0, 940.0], [422.0, 940.0], [422.0, 969.0], [68.0, 969.0]], ('IDLY SOOJI 1KG X20 PKTS', 0.9179229140281677)], [[[688.0, 942.0], [800.0, 942.0], [800.0, 967.0], [688.0, 967.0]], ('11031900', 0.999183714389801)], [[[845.0, 938.0], [877.0, 938.0], [877.0, 969.0], [845.0, 969.0]], ('10', 0.9987896084785461)], [[[942.0, 938.0], [1033.0, 938.0], [1033.0, 969.0], [942.0, 969.0]], ('713.24', 0.9948449730873108)], [[[1197.0, 938.0], [1285.0, 938.0], [1285.0, 969.0], [1197.0, 969.0]], ('357.00', 0.9983563423156738)], [[[1386.0, 940.0], [1492.0, 940.0], [1492.0, 971.0], [1386.0, 971.0]], ('7,132.00', 0.9763710498809814)], [[[23.0, 978.0], [41.0, 978.0], [41.0, 998.0], [23.0, 998.0]], ('9', 0.9957836866378784)], [[[68.0, 973.0], [358.0, 973.0], [358.0, 1002.0], [68.0, 1002.0]], ('MEDIUM SOOJI 30 KG', 0.933751106262207)], [[[685.0, 976.0], [798.0, 976.0], [798.0, 1000.0], [685.0, 1000.0]], ('11031110', 0.998780369758606)], [[[854.0, 971.0], [881.0, 971.0], [881.0, 1005.0], [854.0, 1005.0]], ('3', 0.9992215633392334)], [[[924.0, 973.0], [1030.0, 973.0], [1030.0, 1005.0], [924.0, 1005.0]], ('1,110.00', 0.9949334859848022)], [[[1096.0, 976.0], [1116.0, 976.0], [1116.0, 1002.0], [1096.0, 1002.0]], ('0', 0.9458519816398621)], [[[1224.0, 971.0], [1285.0, 971.0], [1285.0, 1005.0], [1224.0, 1005.0]], ('0.00', 0.9578754901885986)], [[[1384.0, 973.0], [1492.0, 973.0], [1492.0, 1005.0], [1384.0, 1005.0]], ('3,330.00', 0.9963667392730713)], [[[20.0, 1011.0], [47.0, 1011.0], [47.0, 1031.0], [20.0, 1031.0]], ('10', 0.9976024031639099)], [[[70.0, 1011.0], [500.0, 1011.0], [500.0, 1034.0], [70.0, 1034.0]], ('ROASTEDSOOJI 500 GRAMS X40', 0.9429802298545837)], [[[688.0, 1009.0], [803.0, 1009.0], [803.0, 1034.0], [688.0, 1034.0]], ('11031110', 0.9984565377235413)], [[[854.0, 1005.0], [884.0, 1005.0], [884.0, 1040.0], [854.0, 1040.0]], ('3', 0.9986785054206848)], [[[942.0, 1007.0], [1033.0, 1007.0], [1033.0, 1038.0], [942.0, 1038.0]], ('837.05', 0.9189755320549011)], [[[1093.0, 1005.0], [1120.0, 1005.0], [1120.0, 1040.0], [1093.0, 1040.0]], ('5', 0.9992965459823608)], [[[1199.0, 1007.0], [1285.0, 1007.0], [1285.0, 1038.0], [1199.0, 1038.0]], ('126.00', 0.9985429644584656)], [[[1384.0, 1007.0], [1492.0, 1007.0], [1492.0, 1038.0], [1384.0, 1038.0]], ('2,511.00', 0.9903818964958191)], [[[18.0, 1047.0], [47.0, 1047.0], [47.0, 1067.0], [18.0, 1067.0]], ('11', 0.9983857870101929)], [[[68.0, 1043.0], [417.0, 1043.0], [417.0, 1072.0], [68.0, 1072.0]], ('ROASTED SOOJI1 KG X20', 0.925614595413208)], [[[688.0, 1045.0], [800.0, 1045.0], [800.0, 1070.0], [688.0, 1070.0]], ('11031110', 0.9985060691833496)], [[[854.0, 1040.0], [884.0, 1040.0], [884.0, 1076.0], [854.0, 1076.0]], ('3', 0.9978906512260437)], [[[936.0, 1043.0], [1028.0, 1043.0], [1028.0, 1074.0], [936.0, 1074.0]], ('837.05', 0.9980526566505432)], [[[1093.0, 1040.0], [1120.0, 1040.0], [1120.0, 1076.0], [1093.0, 1076.0]], ('5', 0.9988327622413635)], [[[1199.0, 1038.0], [1286.0, 1043.0], [1283.0, 1077.0], [1196.0, 1071.0]], ('126.00', 0.9983680844306946)], [[[1384.0, 1043.0], [1492.0, 1043.0], [1492.0, 1074.0], [1384.0, 1074.0]], ('2,511.00', 0.9931804537773132)], [[[16.0, 1081.0], [59.0, 1081.0], [59.0, 1105.0], [16.0, 1105.0]], ('12', 0.9983699321746826)], [[[65.0, 1078.0], [383.0, 1078.0], [383.0, 1108.0], [65.0, 1108.0]], ('SUJI 500 GMS X40 PKTS', 0.9099015593528748)], [[[685.0, 1076.0], [803.0, 1076.0], [803.0, 1108.0], [685.0, 1108.0]], ('11031110', 0.9410004615783691)], [[[857.0, 1078.0], [877.0, 1078.0], [877.0, 1108.0], [857.0, 1108.0]], ('5', 0.9142655730247498)], [[[938.0, 1076.0], [1028.0, 1076.0], [1028.0, 1108.0], [938.0, 1108.0]], ('808.48', 0.9958524107933044)], [[[1093.0, 1076.0], [1120.0, 1076.0], [1120.0, 1112.0], [1093.0, 1112.0]], ('5', 0.9993221759796143)], [[[1199.0, 1081.0], [1283.0, 1081.0], [1283.0, 1105.0], [1199.0, 1105.0]], ('202.00', 0.9983656406402588)], [[[1389.0, 1081.0], [1490.0, 1081.0], [1490.0, 1105.0], [1389.0, 1105.0]], ('4,042.00', 0.965876579284668)], [[[16.0, 1114.0], [59.0, 1114.0], [59.0, 1139.0], [16.0, 1139.0]], ('13', 0.9984724521636963)], [[[65.0, 1112.0], [631.0, 1112.0], [631.0, 1141.0], [65.0, 1141.0]], ('BHAGYALAKSHMI VERMICELLI 400GMS X', 0.9610247015953064)], [[[688.0, 1114.0], [800.0, 1114.0], [800.0, 1139.0], [688.0, 1139.0]], ('19021900', 0.9985893368721008)], [[[930.0, 1107.0], [1029.0, 1113.0], [1027.0, 1144.0], [928.0, 1138.0]], ('785.83', 0.9890523552894592)], [[[1093.0, 1110.0], [1120.0, 1110.0], [1120.0, 1143.0], [1093.0, 1143.0]], ('5', 0.9995080232620239)], [[[1211.0, 1110.0], [1285.0, 1110.0], [1285.0, 1141.0], [1211.0, 1141.0]], ('39.00', 0.9978466033935547)], [[[1407.0, 1112.0], [1492.0, 1112.0], [1492.0, 1143.0], [1407.0, 1143.0]], ('786.00', 0.9987218379974365)], [[[70.0, 1146.0], [174.0, 1146.0], [174.0, 1177.0], [70.0, 1177.0]], ('40PKTS', 0.9936237931251526)], [[[18.0, 1184.0], [68.0, 1184.0], [68.0, 1208.0], [18.0, 1208.0]], ('14', 0.9974727034568787)], [[[684.0, 1176.0], [805.0, 1182.0], [804.0, 1213.0], [683.0, 1208.0]], ('11010000', 0.9978345036506653)], [[[68.0, 1186.0], [437.0, 1186.0], [437.0, 1208.0], [68.0, 1208.0]], ('KING PAROTA MAIDA 50KG', 0.9431506991386414)], [[[836.0, 1181.0], [877.0, 1181.0], [877.0, 1208.0], [836.0, 1208.0]], ('10', 0.9983347654342651)], [[[924.0, 1181.0], [1028.0, 1181.0], [1028.0, 1213.0], [924.0, 1213.0]], ('1,890.00', 0.9973903894424438)], [[[1093.0, 1181.0], [1120.0, 1181.0], [1120.0, 1213.0], [1093.0, 1213.0]], ('0', 0.9437557458877563)], [[[1226.0, 1184.0], [1283.0, 1184.0], [1283.0, 1210.0], [1226.0, 1210.0]], ('0.00', 0.9984877109527588)], [[[1375.0, 1181.0], [1492.0, 1181.0], [1492.0, 1213.0], [1375.0, 1213.0]], ('18,900.00', 0.9976767301559448)], [[[18.0, 1217.0], [68.0, 1217.0], [68.0, 1242.0], [18.0, 1242.0]], ('15', 0.9975932836532593)], [[[63.0, 1219.0], [552.0, 1219.0], [552.0, 1242.0], [63.0, 1242.0]], ('KING PAROTA MAIDA 10 KG X 3PKT', 0.9198521375656128)], [[[683.0, 1218.0], [804.0, 1212.0], [805.0, 1244.0], [684.0, 1249.0]], ('11010000', 0.9995986223220825)], [[[857.0, 1217.0], [877.0, 1217.0], [877.0, 1244.0], [857.0, 1244.0]], ('3', 0.9992087483406067)], [[[924.0, 1215.0], [1028.0, 1215.0], [1028.0, 1246.0], [924.0, 1246.0]], ('1,169.86', 0.9829840064048767)], [[[1093.0, 1215.0], [1123.0, 1215.0], [1123.0, 1249.0], [1093.0, 1249.0]], ('5', 0.9994316697120667)], [[[1199.0, 1215.0], [1285.0, 1215.0], [1285.0, 1246.0], [1199.0, 1246.0]], ('175.00', 0.9984567761421204)], [[[1384.0, 1215.0], [1492.0, 1215.0], [1492.0, 1246.0], [1384.0, 1246.0]], ('3,510.00', 0.9933401346206665)], [[[18.0, 1253.0], [68.0, 1253.0], [68.0, 1278.0], [18.0, 1278.0]], ('16', 0.9972282648086548)], [[[61.0, 1251.0], [374.0, 1251.0], [374.0, 1280.0], [61.0, 1280.0]], ('MAIDA 1 KG X 20PKTS', 0.8823644518852234)], [[[685.0, 1251.0], [803.0, 1251.0], [803.0, 1282.0], [685.0, 1282.0]], ('11010000', 0.9987878799438477)], [[[857.0, 1253.0], [877.0, 1253.0], [877.0, 1280.0], [857.0, 1280.0]], ('5', 0.9997232556343079)], [[[942.0, 1251.0], [1028.0, 1251.0], [1028.0, 1282.0], [942.0, 1282.0]], ('770.38', 0.9979649186134338)], [[[1093.0, 1251.0], [1120.0, 1251.0], [1120.0, 1284.0], [1093.0, 1284.0]], ('5', 0.999201238155365)], [[[1199.0, 1251.0], [1285.0, 1251.0], [1285.0, 1282.0], [1199.0, 1282.0]], ('193.00', 0.9988356232643127)], [[[1386.0, 1251.0], [1492.0, 1251.0], [1492.0, 1282.0], [1386.0, 1282.0]], ('3,852.00', 0.9913876056671143)], [[[65.0, 1287.0], [422.0, 1287.0], [422.0, 1316.0], [65.0, 1316.0]], ('MAIDA 500 GMS X40PKTS', 0.9321224689483643)], [[[685.0, 1282.0], [800.0, 1282.0], [800.0, 1313.0], [685.0, 1313.0]], ('11010000', 0.9996612071990967)], [[[854.0, 1284.0], [881.0, 1284.0], [881.0, 1318.0], [854.0, 1318.0]], ('5', 0.9995729327201843)], [[[942.0, 1287.0], [1028.0, 1287.0], [1028.0, 1318.0], [942.0, 1318.0]], ('770.38', 0.9984924793243408)], [[[1093.0, 1284.0], [1120.0, 1284.0], [1120.0, 1318.0], [1093.0, 1318.0]], ('5', 0.9993834495544434)], [[[1199.0, 1281.0], [1284.0, 1287.0], [1281.0, 1321.0], [1196.0, 1315.0]], ('193.00', 0.9997074604034424)], [[[18.0, 1291.0], [52.0, 1291.0], [52.0, 1313.0], [18.0, 1313.0]], ('17', 0.9986984729766846)], [[[1384.0, 1287.0], [1492.0, 1287.0], [1492.0, 1318.0], [1384.0, 1318.0]], ('3,852.00', 0.9910567998886108)], [[[18.0, 1322.0], [56.0, 1322.0], [56.0, 1347.0], [18.0, 1347.0]], ('18', 0.9969691038131714)], [[[61.0, 1322.0], [458.0, 1322.0], [458.0, 1351.0], [61.0, 1351.0]], ('Maize Starch Corn Flour 1KgX25', 0.9573908448219299)], [[[690.0, 1320.0], [803.0, 1320.0], [803.0, 1351.0], [690.0, 1351.0]], ('11081200', 0.9993441104888916)], [[[859.0, 1325.0], [877.0, 1325.0], [877.0, 1349.0], [859.0, 1349.0]], ('1', 0.9986653327941895)], [[[924.0, 1320.0], [1028.0, 1320.0], [1028.0, 1351.0], [924.0, 1351.0]], ('1,102.50', 0.9886627793312073)], [[[1084.0, 1320.0], [1120.0, 1320.0], [1120.0, 1351.0], [1084.0, 1351.0]], ('12', 0.9995031356811523)], [[[1199.0, 1320.0], [1283.0, 1320.0], [1283.0, 1351.0], [1199.0, 1351.0]], ('132.00', 0.9991202354431152)], [[[1389.0, 1320.0], [1492.0, 1320.0], [1492.0, 1351.0], [1389.0, 1351.0]], ('1,103.00', 0.99150550365448)], [[[14.0, 1354.0], [510.0, 1354.0], [510.0, 1383.0], [14.0, 1383.0]], ('19RAW RICE SOOJI 500 GRAMS X40', 0.9265590310096741)], [[[684.0, 1349.0], [803.0, 1354.0], [802.0, 1385.0], [683.0, 1380.0]], ('11031900', 0.9986238479614258)], [[[854.0, 1354.0], [881.0, 1354.0], [881.0, 1387.0], [854.0, 1387.0]], ('2', 0.9990735054016113)], [[[942.0, 1354.0], [1030.0, 1354.0], [1030.0, 1385.0], [942.0, 1385.0]], ('732.29', 0.9974892139434814)], [[[1093.0, 1354.0], [1120.0, 1354.0], [1120.0, 1385.0], [1093.0, 1385.0]], ('5', 0.9993010759353638)], [[[1211.0, 1354.0], [1285.0, 1354.0], [1285.0, 1385.0], [1211.0, 1385.0]], ('73.00', 0.9985884428024292)], [[[1391.0, 1358.0], [1490.0, 1358.0], [1490.0, 1383.0], [1391.0, 1383.0]], ('1,465.00', 0.9792526960372925)], [[[733.0, 1389.0], [803.0, 1389.0], [803.0, 1421.0], [733.0, 1421.0]], ('Total', 0.998367190361023)], [[[830.0, 1387.0], [881.0, 1387.0], [881.0, 1421.0], [830.0, 1421.0]], ('123', 0.9994077682495117)], [[[1177.0, 1389.0], [1285.0, 1389.0], [1285.0, 1421.0], [1177.0, 1421.0]], ('4,410.00', 0.9871784448623657)], [[[1355.0, 1394.0], [1490.0, 1394.0], [1490.0, 1419.0], [1355.0, 1419.0]], ('1,08,862.00', 0.9823116064071655)], [[[6.0, 1420.0], [122.0, 1426.0], [121.0, 1459.0], [4.0, 1454.0]], ('T-2.911', 0.9722028970718384)], [[[1353.0, 1425.0], [1492.0, 1425.0], [1492.0, 1457.0], [1353.0, 1457.0]], ('1,13,272.00', 0.9985215663909912)], [[[1064.0, 1461.0], [1287.0, 1461.0], [1287.0, 1490.0], [1064.0, 1490.0]], ('Discount Amount', 0.9954366683959961)], [[[1436.0, 1461.0], [1499.0, 1461.0], [1499.0, 1490.0], [1436.0, 1490.0]], ('0.00', 0.9979668259620667)], [[[981.0, 1497.0], [1283.0, 1497.0], [1283.0, 1526.0], [981.0, 1526.0]], ('Freight Amount(Deduct)', 0.9945977926254272)], [[[1436.0, 1497.0], [1495.0, 1497.0], [1495.0, 1524.0], [1436.0, 1524.0]], ('0.00', 0.9982646703720093)], [[[1222.0, 1530.0], [1281.0, 1530.0], [1281.0, 1557.0], [1222.0, 1557.0]], ('TCS', 0.9927216172218323)], [[[1436.0, 1530.0], [1492.0, 1530.0], [1492.0, 1557.0], [1436.0, 1557.0]], ('0.00', 0.9983577132225037)], [[[1129.0, 1562.0], [1283.0, 1562.0], [1283.0, 1593.0], [1129.0, 1593.0]], ('Round OffQ', 0.9424079060554504)], [[[1452.0, 1566.0], [1495.0, 1566.0], [1495.0, 1595.0], [1452.0, 1595.0]], ('.00', 0.9960569739341736)], [[[1145.0, 1602.0], [1287.0, 1602.0], [1287.0, 1627.0], [1145.0, 1627.0]], ('Final Total', 0.9816749691963196)], [[[1357.0, 1602.0], [1495.0, 1602.0], [1495.0, 1627.0], [1357.0, 1627.0]], ('1,13,272.00', 0.9809656143188477)], [[[2.0, 1633.0], [1001.0, 1633.0], [1001.0, 1662.0], [2.0, 1662.0]], ('Total in words :One Lakh Thirteen Thousand Two Hundred and Seventy-Two Only', 0.975192666053772)], [[[115.0, 1671.0], [237.0, 1671.0], [237.0, 1696.0], [115.0, 1696.0]], ('HSN/SAC', 0.9982977509498596)], [[[382.0, 1664.0], [496.0, 1670.0], [495.0, 1701.0], [380.0, 1696.0]], ('Quantity', 0.9967814087867737)], [[[523.0, 1669.0], [706.0, 1669.0], [706.0, 1698.0], [523.0, 1698.0]], ('Taxable Value', 0.9805317521095276)], [[[839.0, 1671.0], [983.0, 1671.0], [983.0, 1696.0], [839.0, 1696.0]], ('Central Tax', 0.9659591317176819)], [[[1241.0, 1664.0], [1364.0, 1670.0], [1363.0, 1701.0], [1239.0, 1696.0]], ('State Tax', 0.9733933210372925)], [[[794.0, 1703.0], [830.0, 1703.0], [830.0, 1732.0], [794.0, 1732.0]], ('%', 0.8175846338272095)], [[[978.0, 1705.0], [1037.0, 1705.0], [1037.0, 1732.0], [978.0, 1732.0]], ('Amt', 0.9976757168769836)], [[[1188.0, 1703.0], [1224.0, 1703.0], [1224.0, 1732.0], [1188.0, 1732.0]], ('%', 0.9920435547828674)], [[[1373.0, 1705.0], [1432.0, 1705.0], [1432.0, 1732.0], [1373.0, 1732.0]], ('Amt', 0.9982698559761047)], [[[225.0, 1765.0], [357.0, 1773.0], [355.0, 1806.0], [223.0, 1798.0]], ('11010000', 0.9979915022850037)], [[[473.0, 1772.0], [510.0, 1772.0], [510.0, 1803.0], [473.0, 1803.0]], ('10', 0.9984020590782166)], [[[591.0, 1774.0], [706.0, 1774.0], [706.0, 1799.0], [591.0, 1799.0]], ('18,900.00', 0.992511510848999)], [[[843.0, 1770.0], [904.0, 1770.0], [904.0, 1803.0], [843.0, 1803.0]], ('0.00', 0.9986339211463928)], [[[1039.0, 1770.0], [1100.0, 1770.0], [1100.0, 1803.0], [1039.0, 1803.0]], ('0.00', 0.9540361166000366)], [[[1238.0, 1770.0], [1296.0, 1770.0], [1296.0, 1803.0], [1238.0, 1803.0]], ('0.00', 0.9981066584587097)], [[[1432.0, 1767.0], [1494.0, 1773.0], [1490.0, 1807.0], [1428.0, 1800.0]], ('0.00', 0.9971715211868286)], [[[173.0, 1787.0], [228.0, 1835.0], [84.0, 1994.0], [29.0, 1946.0]], ('ETdng', 0.6822417974472046)], [[[224.0, 1801.0], [359.0, 1806.0], [358.0, 1837.0], [223.0, 1832.0]], ('11010000', 0.9967240691184998)], [[[473.0, 1806.0], [510.0, 1806.0], [510.0, 1837.0], [473.0, 1837.0]], ('72', 0.9962999820709229)], [[[586.0, 1806.0], [708.0, 1806.0], [708.0, 1837.0], [586.0, 1837.0]], ('57,176.00', 0.9579147696495056)], [[[845.0, 1808.0], [902.0, 1808.0], [902.0, 1835.0], [845.0, 1835.0]], ('2.50', 0.9985986948013306)], [[[996.0, 1806.0], [1100.0, 1806.0], [1100.0, 1837.0], [996.0, 1837.0]], ('1,430.00', 0.9981372356414795)], [[[1240.0, 1808.0], [1294.0, 1808.0], [1294.0, 1835.0], [1240.0, 1835.0]], ('2.50', 0.9987416863441467)], [[[1389.0, 1806.0], [1492.0, 1806.0], [1492.0, 1837.0], [1389.0, 1837.0]], ('1,430.00', 0.9967683553695679)], [[[239.0, 1841.0], [358.0, 1841.0], [358.0, 1873.0], [239.0, 1873.0]], ('11029022', 0.9997432827949524)], [[[476.0, 1841.0], [510.0, 1841.0], [510.0, 1873.0], [476.0, 1873.0]], ('12', 0.999779999256134)], [[[600.0, 1841.0], [708.0, 1841.0], [708.0, 1873.0], [600.0, 1873.0]], ('8,788.00', 0.9937072396278381)], [[[843.0, 1839.0], [904.0, 1839.0], [904.0, 1873.0], [843.0, 1873.0]], ('2.50', 0.9991050958633423)], [[[1014.0, 1834.0], [1101.0, 1840.0], [1099.0, 1873.0], [1012.0, 1868.0]], ('219.50', 0.9987492561340332)], [[[1238.0, 1839.0], [1296.0, 1839.0], [1296.0, 1873.0], [1238.0, 1873.0]], ('2.50', 0.9997150897979736)], [[[1407.0, 1839.0], [1492.0, 1839.0], [1492.0, 1873.0], [1407.0, 1873.0]], ('219.50', 0.9996047616004944)], [[[239.0, 1875.0], [358.0, 1875.0], [358.0, 1906.0], [239.0, 1906.0]], ('11031110', 0.9991365671157837)], [[[482.0, 1875.0], [512.0, 1875.0], [512.0, 1906.0], [482.0, 1906.0]], ('3', 0.9985456466674805)], [[[600.0, 1875.0], [708.0, 1875.0], [708.0, 1906.0], [600.0, 1906.0]], ('3,330.00', 0.996829628944397)], [[[845.0, 1877.0], [902.0, 1877.0], [902.0, 1904.0], [845.0, 1904.0]], ('0.00', 0.9983799457550049)], [[[1042.0, 1877.0], [1098.0, 1877.0], [1098.0, 1904.0], [1042.0, 1904.0]], ('0.00', 0.9980725646018982)], [[[1240.0, 1877.0], [1294.0, 1877.0], [1294.0, 1904.0], [1240.0, 1904.0]], ('0.00', 0.998267412185669)], [[[1434.0, 1875.0], [1495.0, 1875.0], [1495.0, 1909.0], [1434.0, 1909.0]], ('0.00', 0.9991123080253601)], [[[239.0, 1911.0], [358.0, 1911.0], [358.0, 1942.0], [239.0, 1942.0]], ('11031110', 0.9953794479370117)], [[[473.0, 1911.0], [510.0, 1911.0], [510.0, 1942.0], [473.0, 1942.0]], ('11', 0.9992215633392334)], [[[600.0, 1911.0], [708.0, 1911.0], [708.0, 1942.0], [600.0, 1942.0]], ('9,064.00', 0.9855533838272095)], [[[843.0, 1909.0], [904.0, 1909.0], [904.0, 1942.0], [843.0, 1942.0]], ('2.50', 0.9987343549728394)], [[[1015.0, 1911.0], [1100.0, 1911.0], [1100.0, 1942.0], [1015.0, 1942.0]], ('227.00', 0.9990494847297668)], [[[1240.0, 1913.0], [1294.0, 1913.0], [1294.0, 1940.0], [1240.0, 1940.0]], ('2.50', 0.9989083409309387)], [[[1407.0, 1911.0], [1492.0, 1911.0], [1492.0, 1942.0], [1407.0, 1942.0]], ('227.00', 0.9989272952079773)], [[[473.0, 1947.0], [510.0, 1947.0], [510.0, 1978.0], [473.0, 1978.0]], ('12', 0.9991660118103027)], [[[600.0, 1944.0], [706.0, 1944.0], [706.0, 1976.0], [600.0, 1976.0]], ('8,597.00', 0.9905557036399841)], [[[843.0, 1944.0], [902.0, 1944.0], [902.0, 1978.0], [843.0, 1978.0]], ('2.50', 0.999254584312439)], [[[1014.0, 1939.0], [1101.0, 1945.0], [1099.0, 1979.0], [1012.0, 1973.0]], ('215.00', 0.9988581538200378)], [[[1238.0, 1944.0], [1296.0, 1944.0], [1296.0, 1978.0], [1238.0, 1978.0]], ('2.50', 0.9997761249542236)], [[[1406.0, 1939.0], [1493.0, 1945.0], [1491.0, 1979.0], [1404.0, 1973.0]], ('215.00', 0.9988656640052795)], [[[241.0, 1949.0], [356.0, 1949.0], [356.0, 1973.0], [241.0, 1973.0]], ('11031900', 0.999222457408905)], [[[239.0, 1980.0], [356.0, 1980.0], [356.0, 2012.0], [239.0, 2012.0]], ('11081200', 0.9996516704559326)], [[[479.0, 1982.0], [508.0, 1976.0], [516.0, 2010.0], [486.0, 2016.0]], ('1', 0.9988419413566589)], [[[602.0, 1980.0], [706.0, 1980.0], [706.0, 2012.0], [602.0, 2012.0]], ('1,103.00', 0.9984471797943115)], [[[845.0, 1978.0], [902.0, 1978.0], [902.0, 2012.0], [845.0, 2012.0]], ('6.00', 0.999407947063446)], [[[1026.0, 1980.0], [1100.0, 1980.0], [1100.0, 2012.0], [1026.0, 2012.0]], ('66.00', 0.9986261129379272)], [[[1238.0, 1978.0], [1296.0, 1978.0], [1296.0, 2012.0], [1238.0, 2012.0]], ('6.00', 0.9992575645446777)], [[[1420.0, 1980.0], [1492.0, 1980.0], [1492.0, 2012.0], [1420.0, 2012.0]], ('66.00', 0.9986191987991333)], [[[241.0, 2014.0], [358.0, 2014.0], [358.0, 2045.0], [241.0, 2045.0]], ('17011310', 0.9440963864326477)], [[[487.0, 2014.0], [507.0, 2014.0], [507.0, 2043.0], [487.0, 2043.0]], ('1', 0.9996786117553711)], [[[602.0, 2014.0], [708.0, 2014.0], [708.0, 2045.0], [602.0, 2045.0]], ('1,118.00', 0.988437294960022)], [[[843.0, 2012.0], [904.0, 2012.0], [904.0, 2047.0], [843.0, 2047.0]], ('2.50', 0.9991245865821838)], [[[1028.0, 2014.0], [1100.0, 2014.0], [1100.0, 2045.0], [1028.0, 2045.0]], ('28.00', 0.9984897375106812)], [[[1238.0, 2014.0], [1296.0, 2014.0], [1296.0, 2047.0], [1238.0, 2047.0]], ('2.50', 0.9998242855072021)], [[[1420.0, 2014.0], [1492.0, 2014.0], [1492.0, 2045.0], [1420.0, 2045.0]], ('28.00', 0.998609185218811)], [[[243.0, 2052.0], [356.0, 2052.0], [356.0, 2076.0], [243.0, 2076.0]], ('19021900', 0.9989469051361084)], [[[622.0, 2050.0], [708.0, 2050.0], [708.0, 2081.0], [622.0, 2081.0]], ('786.00', 0.9986249804496765)], [[[843.0, 2047.0], [906.0, 2047.0], [906.0, 2081.0], [843.0, 2081.0]], ('2.50', 0.9981266260147095)], [[[1028.0, 2050.0], [1102.0, 2050.0], [1102.0, 2081.0], [1028.0, 2081.0]], ('19.50', 0.9988888502120972)], [[[1238.0, 2047.0], [1296.0, 2047.0], [1296.0, 2081.0], [1238.0, 2081.0]], ('2.50', 0.9993271231651306)], [[[478.0, 2059.0], [502.0, 2043.0], [518.0, 2067.0], [494.0, 2083.0]], ('1', 0.8497030735015869)], [[[1423.0, 2050.0], [1495.0, 2050.0], [1495.0, 2081.0], [1423.0, 2081.0]], ('19.50', 0.9995619058609009)], [[[424.0, 2085.0], [523.0, 2085.0], [523.0, 2117.0], [424.0, 2117.0]], ('123.00', 0.9997351169586182)], [[[568.0, 2085.0], [710.0, 2085.0], [710.0, 2117.0], [568.0, 2117.0]], ('1,08,862.00', 0.9567768573760986)], [[[992.0, 2085.0], [1111.0, 2085.0], [1111.0, 2117.0], [992.0, 2117.0]], ('2,205.00', 0.9948670864105225)], [[[1384.0, 2085.0], [1495.0, 2085.0], [1495.0, 2117.0], [1384.0, 2117.0]], ('2,205.00', 0.995274007320404)], [[[629.0, 2112.0], [733.0, 2112.0], [733.0, 2144.0], [629.0, 2144.0]], ('Page 1/2', 0.9865829348564148)]]\n"
          ]
        }
      ]
    },
    {
      "cell_type": "code",
      "source": [
        "boxes = [line[0] for line in output]\n",
        "texts = [line[1][0] for line in output]\n",
        "probabilities = [line[1][1] for line in output]"
      ],
      "metadata": {
        "id": "0_TDsg30djyS"
      },
      "execution_count": 14,
      "outputs": []
    },
    {
      "cell_type": "code",
      "source": [
        "image_boxes = image_cv.copy()"
      ],
      "metadata": {
        "id": "laxxwOnYdk_y"
      },
      "execution_count": 15,
      "outputs": []
    },
    {
      "cell_type": "code",
      "source": [
        "for box,text in zip(boxes,texts):\n",
        "  cv2.rectangle(image_boxes, (int(box[0][0]),int(box[0][1])), (int(box[2][0]),int(box[2][1])),(0,0,255),1)\n",
        "  cv2.putText(image_boxes, text,(int(box[0][0]),int(box[0][1])),cv2.FONT_HERSHEY_SIMPLEX,1,(222,0,0),1)"
      ],
      "metadata": {
        "id": "yYbPQeHDdoWC"
      },
      "execution_count": 16,
      "outputs": []
    },
    {
      "cell_type": "code",
      "source": [
        "cv2.imwrite('detections.jpg', image_boxes)"
      ],
      "metadata": {
        "colab": {
          "base_uri": "https://localhost:8080/"
        },
        "id": "IdyT17W3drHi",
        "outputId": "7eb8d0d1-ac6a-472a-8cb2-a3c91b7cc8f4"
      },
      "execution_count": 17,
      "outputs": [
        {
          "output_type": "execute_result",
          "data": {
            "text/plain": [
              "True"
            ]
          },
          "metadata": {},
          "execution_count": 17
        }
      ]
    },
    {
      "cell_type": "code",
      "source": [
        "im = image_cv.copy()"
      ],
      "metadata": {
        "id": "GZ8fJXSYdrc6"
      },
      "execution_count": 18,
      "outputs": []
    },
    {
      "cell_type": "code",
      "source": [
        "horiz_boxes = []\n",
        "vert_boxes = []\n",
        "\n",
        "for box in boxes:\n",
        "  x_h, x_v = 0,int(box[0][0])\n",
        "  y_h, y_v = int(box[0][1]),0\n",
        "  width_h,width_v = image_width, int(box[2][0]-box[0][0])\n",
        "  height_h,height_v = int(box[2][1]-box[0][1]),image_height\n",
        "\n",
        "  horiz_boxes.append([x_h,y_h,x_h+width_h,y_h+height_h])\n",
        "  vert_boxes.append([x_v,y_v,x_v+width_v,y_v+height_v])\n",
        "\n",
        "  cv2.rectangle(im,(x_h,y_h), (x_h+width_h,y_h+height_h),(0,0,255),1)\n",
        "  cv2.rectangle(im,(x_v,y_v), (x_v+width_v,y_v+height_v),(0,255,0),1)\n"
      ],
      "metadata": {
        "id": "uZl9knSneB1G"
      },
      "execution_count": 19,
      "outputs": []
    },
    {
      "cell_type": "code",
      "source": [
        "cv2.imwrite('horiz_vert.jpg',im)"
      ],
      "metadata": {
        "colab": {
          "base_uri": "https://localhost:8080/"
        },
        "id": "3aPJpbTyeGdn",
        "outputId": "1f75eaac-9573-411a-9526-ee1f99f326c9"
      },
      "execution_count": 20,
      "outputs": [
        {
          "output_type": "execute_result",
          "data": {
            "text/plain": [
              "True"
            ]
          },
          "metadata": {},
          "execution_count": 20
        }
      ]
    },
    {
      "cell_type": "code",
      "source": [
        "horiz_out = tf.image.non_max_suppression(\n",
        "    horiz_boxes,\n",
        "    probabilities,\n",
        "    max_output_size = 1000,\n",
        "    iou_threshold=0.1,\n",
        "    score_threshold=float('-inf'),\n",
        "    name=None\n",
        ")"
      ],
      "metadata": {
        "id": "oGDOPIp5eHqG"
      },
      "execution_count": 23,
      "outputs": []
    },
    {
      "cell_type": "code",
      "source": [
        "horiz_lines = np.sort(np.array(horiz_out))\n",
        "print(horiz_lines)"
      ],
      "metadata": {
        "colab": {
          "base_uri": "https://localhost:8080/"
        },
        "id": "BIZk92cTeerQ",
        "outputId": "0a100f0c-c37e-4999-8ad6-cd7c07d5ad40"
      },
      "execution_count": 24,
      "outputs": [
        {
          "output_type": "stream",
          "name": "stdout",
          "text": [
            "[  0   1   3   5   6  13  14  20  22  25  33  36  42  49  60  66  74  77\n",
            "  89  95 103 113 121 129 136 139 146 150 159 169 177 184 188 192 194 196\n",
            " 198 200 201 203 204 212 216 226 229 235 243 253 256 268 276 277 281]\n"
          ]
        }
      ]
    },
    {
      "cell_type": "code",
      "source": [
        "im_nms = image_cv.copy()"
      ],
      "metadata": {
        "id": "uy4ETDNOePYy"
      },
      "execution_count": 25,
      "outputs": []
    },
    {
      "cell_type": "code",
      "source": [
        "for val in horiz_lines:\n",
        "  cv2.rectangle(im_nms, (int(horiz_boxes[val][0]),int(horiz_boxes[val][1])), (int(horiz_boxes[val][2]),int(horiz_boxes[val][3])),(0,0,255),1)\n"
      ],
      "metadata": {
        "id": "ixNBkzSTeW3r"
      },
      "execution_count": 26,
      "outputs": []
    },
    {
      "cell_type": "code",
      "source": [
        "cv2.imwrite('im_nms.jpg',im_nms)"
      ],
      "metadata": {
        "colab": {
          "base_uri": "https://localhost:8080/"
        },
        "id": "x3vQeKB1eYrr",
        "outputId": "2d19dfe1-60a4-48e5-c709-558688e7c7cb"
      },
      "execution_count": 27,
      "outputs": [
        {
          "output_type": "execute_result",
          "data": {
            "text/plain": [
              "True"
            ]
          },
          "metadata": {},
          "execution_count": 27
        }
      ]
    },
    {
      "cell_type": "code",
      "source": [
        "vert_out = tf.image.non_max_suppression(\n",
        "    vert_boxes,\n",
        "    probabilities,\n",
        "    max_output_size = 1000,\n",
        "    iou_threshold=0.1,\n",
        "    score_threshold=float('-inf'),\n",
        "    name=None\n",
        ")"
      ],
      "metadata": {
        "id": "5C1EWjs7eiMh"
      },
      "execution_count": 28,
      "outputs": []
    },
    {
      "cell_type": "code",
      "source": [
        "vert_lines = np.sort(np.array(vert_out))\n",
        "print(vert_lines)"
      ],
      "metadata": {
        "colab": {
          "base_uri": "https://localhost:8080/"
        },
        "id": "RiqFQNkrepRZ",
        "outputId": "c76f718a-b7d5-40ca-f506-04457fbe0047"
      },
      "execution_count": 29,
      "outputs": [
        {
          "output_type": "stream",
          "name": "stdout",
          "text": [
            "[ 22  36  49  60  74  89 159 204 206 228 229 246 268]\n"
          ]
        }
      ]
    },
    {
      "cell_type": "code",
      "source": [
        "for val in vert_lines:\n",
        "  cv2.rectangle(im_nms, (int(vert_boxes[val][0]),int(vert_boxes[val][1])), (int(vert_boxes[val][2]),int(vert_boxes[val][3])),(255,0,0),1)\n"
      ],
      "metadata": {
        "id": "63nacNv0fBHC"
      },
      "execution_count": 30,
      "outputs": []
    },
    {
      "cell_type": "code",
      "source": [
        "cv2.imwrite('im_nms.jpg',im_nms)"
      ],
      "metadata": {
        "colab": {
          "base_uri": "https://localhost:8080/"
        },
        "id": "V9qCQ5E7fCsy",
        "outputId": "8e3e9bd5-33a6-4e65-d1dd-629674983487"
      },
      "execution_count": 31,
      "outputs": [
        {
          "output_type": "execute_result",
          "data": {
            "text/plain": [
              "True"
            ]
          },
          "metadata": {},
          "execution_count": 31
        }
      ]
    },
    {
      "cell_type": "code",
      "source": [
        "out_array = [[\"\" for i in range(len(vert_lines))] for j in range(len(horiz_lines))]\n",
        "print(np.array(out_array).shape)\n",
        "print(out_array)"
      ],
      "metadata": {
        "id": "xNpJpOR-fECy"
      },
      "execution_count": null,
      "outputs": []
    },
    {
      "cell_type": "code",
      "source": [
        "\n",
        "unordered_boxes = []\n",
        "\n",
        "for i in vert_lines:\n",
        "  print(vert_boxes[i])\n",
        "  unordered_boxes.append(vert_boxes[i][0])"
      ],
      "metadata": {
        "colab": {
          "base_uri": "https://localhost:8080/"
        },
        "id": "bNJStV5jfLdq",
        "outputId": "5a90d16c-e3ac-43d0-ff04-dae8d4c9bf74"
      },
      "execution_count": 33,
      "outputs": [
        {
          "output_type": "stream",
          "name": "stdout",
          "text": [
            "[679, 0, 849, 2148]\n",
            "[1184, 0, 1242, 2148]\n",
            "[942, 0, 1028, 2148]\n",
            "[1386, 0, 1492, 2148]\n",
            "[23, 0, 43, 2148]\n",
            "[1096, 0, 1118, 2148]\n",
            "[857, 0, 877, 2148]\n",
            "[115, 0, 237, 2148]\n",
            "[523, 0, 706, 2148]\n",
            "[239, 0, 358, 2148]\n",
            "[476, 0, 510, 2148]\n",
            "[1015, 0, 1100, 2148]\n",
            "[1238, 0, 1296, 2148]\n"
          ]
        }
      ]
    },
    {
      "cell_type": "code",
      "source": [
        "ordered_boxes = np.argsort(unordered_boxes)\n",
        "print(ordered_boxes)"
      ],
      "metadata": {
        "colab": {
          "base_uri": "https://localhost:8080/"
        },
        "id": "q08qfDk7fM_R",
        "outputId": "98880bd9-da21-4b37-b8c9-862de41b06c3"
      },
      "execution_count": 34,
      "outputs": [
        {
          "output_type": "stream",
          "name": "stdout",
          "text": [
            "[ 4  7  9 10  8  0  6  2 11  5  1 12  3]\n"
          ]
        }
      ]
    },
    {
      "cell_type": "code",
      "source": [
        "def intersection(box_1, box_2):\n",
        "  return [box_2[0], box_1[1],box_2[2], box_1[3]]"
      ],
      "metadata": {
        "id": "RLNWyfKffOgC"
      },
      "execution_count": 35,
      "outputs": []
    },
    {
      "cell_type": "code",
      "source": [
        "def iou(box_1, box_2):\n",
        "\n",
        "  x_1 = max(box_1[0], box_2[0])\n",
        "  y_1 = max(box_1[1], box_2[1])\n",
        "  x_2 = min(box_1[2], box_2[2])\n",
        "  y_2 = min(box_1[3], box_2[3])\n",
        "\n",
        "  inter = abs(max((x_2 - x_1, 0)) * max((y_2 - y_1), 0))\n",
        "  if inter == 0:\n",
        "      return 0\n",
        "\n",
        "  box_1_area = abs((box_1[2] - box_1[0]) * (box_1[3] - box_1[1]))\n",
        "  box_2_area = abs((box_2[2] - box_2[0]) * (box_2[3] - box_2[1]))\n",
        "\n",
        "  return inter / float(box_1_area + box_2_area - inter)"
      ],
      "metadata": {
        "id": "ONVmyzw0fPha"
      },
      "execution_count": 36,
      "outputs": []
    },
    {
      "cell_type": "code",
      "source": [
        "for i in range(len(horiz_lines)):\n",
        "  for j in range(len(vert_lines)):\n",
        "    resultant = intersection(horiz_boxes[horiz_lines[i]], vert_boxes[vert_lines[ordered_boxes[j]]] )\n",
        "\n",
        "    for b in range(len(boxes)):\n",
        "      the_box = [boxes[b][0][0],boxes[b][0][1],boxes[b][2][0],boxes[b][2][1]]\n",
        "      if(iou(resultant,the_box)>0.1):\n",
        "        out_array[i][j] = texts[b]"
      ],
      "metadata": {
        "id": "2DrKO7UgfQkJ"
      },
      "execution_count": 37,
      "outputs": []
    },
    {
      "cell_type": "code",
      "source": [
        "indices = [index for index, item in enumerate(out_array) if \"Description of Goods\" in item]"
      ],
      "metadata": {
        "id": "PHccIuV-zS3q"
      },
      "execution_count": 38,
      "outputs": []
    },
    {
      "cell_type": "code",
      "source": [
        "indices"
      ],
      "metadata": {
        "colab": {
          "base_uri": "https://localhost:8080/"
        },
        "id": "Cus9np3gzWzo",
        "outputId": "1672c6db-04fc-40c5-df2c-5cbef21807c7"
      },
      "execution_count": 39,
      "outputs": [
        {
          "output_type": "execute_result",
          "data": {
            "text/plain": [
              "[]"
            ]
          },
          "metadata": {},
          "execution_count": 39
        }
      ]
    },
    {
      "cell_type": "code",
      "source": [
        "indices_start = [index for index, item in enumerate(out_array) if \"PRODUCT DESCRIPTION\" in item or \"Description of Goods\" in item]\n",
        "indices_end = [index for index, item in enumerate(out_array) if \"Total\" in item]\n",
        "#indices_end = np.where(out_array == \"Total\")[0]"
      ],
      "metadata": {
        "id": "yRLuq4iZuKlQ"
      },
      "execution_count": 40,
      "outputs": []
    },
    {
      "cell_type": "code",
      "source": [
        "indices_start[0]"
      ],
      "metadata": {
        "colab": {
          "base_uri": "https://localhost:8080/"
        },
        "id": "75qCEJAX4pm5",
        "outputId": "24c7963e-ab9c-4c2a-885d-957c6c6bc29b"
      },
      "execution_count": 41,
      "outputs": [
        {
          "output_type": "execute_result",
          "data": {
            "text/plain": [
              "10"
            ]
          },
          "metadata": {},
          "execution_count": 41
        }
      ]
    },
    {
      "cell_type": "code",
      "source": [
        "indices_end[0]"
      ],
      "metadata": {
        "colab": {
          "base_uri": "https://localhost:8080/"
        },
        "id": "w3Z2SvZMyIak",
        "outputId": "f281a56e-8ccf-448d-9f9c-4cb23ddf846f"
      },
      "execution_count": 42,
      "outputs": [
        {
          "output_type": "execute_result",
          "data": {
            "text/plain": [
              "32"
            ]
          },
          "metadata": {},
          "execution_count": 42
        }
      ]
    },
    {
      "cell_type": "code",
      "source": [
        "out_array1=np.array(out_array[indices_start[0]:indices_end[0]+1])"
      ],
      "metadata": {
        "id": "HzWI4P5vfSWK"
      },
      "execution_count": 43,
      "outputs": []
    },
    {
      "cell_type": "code",
      "source": [
        "df1 = pd.DataFrame(out_array1)"
      ],
      "metadata": {
        "id": "HcUqWZpE8cyu"
      },
      "execution_count": 44,
      "outputs": []
    },
    {
      "cell_type": "code",
      "source": [
        "df1.to_csv('sample1.csv',index = False)"
      ],
      "metadata": {
        "id": "1jy5eN39CWY6"
      },
      "execution_count": 45,
      "outputs": []
    },
    {
      "cell_type": "code",
      "source": [
        "#out_array"
      ],
      "metadata": {
        "id": "pSVVEYtbfTpy"
      },
      "execution_count": 46,
      "outputs": []
    },
    {
      "cell_type": "code",
      "source": [
        "indices_start1 = [index for index, item in enumerate(out_array) if \"HSN/SAC\" in item]\n",
        "indices_end1 = [index for index, item in enumerate(out_array) if \"Page 1/2\" in item or \"Page 2/2\" in item or \"Goods Once sold\" in item]"
      ],
      "metadata": {
        "id": "zCxRzMZh7jui"
      },
      "execution_count": 47,
      "outputs": []
    },
    {
      "cell_type": "code",
      "source": [
        "indices_end1"
      ],
      "metadata": {
        "colab": {
          "base_uri": "https://localhost:8080/"
        },
        "id": "OuEW2Vdn-MMb",
        "outputId": "22be204b-24de-459d-a59e-553793446af3"
      },
      "execution_count": 48,
      "outputs": [
        {
          "output_type": "execute_result",
          "data": {
            "text/plain": [
              "[52]"
            ]
          },
          "metadata": {},
          "execution_count": 48
        }
      ]
    },
    {
      "cell_type": "code",
      "source": [
        "if len(indices_start1) >0 and len(indices_end1)>0:\n",
        "  out_array2=np.array(out_array[indices_start1[0]:indices_end1[0]])\n",
        "  df2 = pd.DataFrame(out_array2)\n",
        "  df2.to_csv('sample2.csv',index = False)"
      ],
      "metadata": {
        "id": "iRNa4CxG7jxj"
      },
      "execution_count": 49,
      "outputs": []
    },
    {
      "cell_type": "code",
      "source": [],
      "metadata": {
        "id": "aPa7xaQm7j0S"
      },
      "execution_count": 49,
      "outputs": []
    },
    {
      "cell_type": "code",
      "source": [],
      "metadata": {
        "id": "7yVEeA2Zulet"
      },
      "execution_count": null,
      "outputs": []
    },
    {
      "cell_type": "code",
      "source": [],
      "metadata": {
        "id": "9ZVlUQAV9o0I"
      },
      "execution_count": null,
      "outputs": []
    },
    {
      "cell_type": "code",
      "source": [],
      "metadata": {
        "id": "oGpt_XlYACnK"
      },
      "execution_count": null,
      "outputs": []
    }
  ]
}