{
  "nbformat": 4,
  "nbformat_minor": 0,
  "metadata": {
    "colab": {
      "provenance": []
    },
    "kernelspec": {
      "name": "python3",
      "display_name": "Python 3"
    },
    "language_info": {
      "name": "python"
    }
  },
  "cells": [
    {
      "cell_type": "code",
      "execution_count": 11,
      "metadata": {
        "id": "kqgjmhbVc3yz"
      },
      "outputs": [],
      "source": [
        "import PyPDF2\n",
        "import spacy\n",
        "\n",
        "# Load the spaCy NLP model\n",
        "nlp = spacy.load(\"en_core_web_sm\")\n",
        "\n",
        "# Function to extract text from a PDF\n",
        "def extract_text_from_pdf(pdf_path):\n",
        "    text = \"\"\n",
        "    with open(pdf_path, \"rb\") as pdf_file:\n",
        "        pdf_reader = PyPDF2.PdfReader(pdf_file)\n",
        "        print(\"#####\",len(pdf_reader.pages))\n",
        "        for page_num in range(len(pdf_reader.pages)):\n",
        "            page = pdf_reader.pages[page_num]\n",
        "            text += page.extract_text()\n",
        "    return text"
      ]
    },
    {
      "cell_type": "code",
      "source": [
        "#pip install PyPDF2"
      ],
      "metadata": {
        "id": "6KCgPSeQyZhb"
      },
      "execution_count": 4,
      "outputs": []
    },
    {
      "cell_type": "code",
      "source": [
        "#from google.colab import files\n",
        "#uploaded = files.upload()"
      ],
      "metadata": {
        "id": "FjYNs5FFc5sl"
      },
      "execution_count": 12,
      "outputs": []
    },
    {
      "cell_type": "code",
      "source": [
        "# Replace 'invoice.pdf' with the path to your PDF document\n",
        "pdf_path = 'A SALES-S03677-23-24-29-Aug-23.pdf'\n",
        "\n",
        "# Extract text from the PDF\n",
        "invoice_text = extract_text_from_pdf(pdf_path)\n",
        "\n",
        "# Process the text with spaCy for entity extraction\n",
        "doc = nlp(invoice_text)\n",
        "\n",
        "# Extract entities\n",
        "entities = [(ent.text, ent.label_) for ent in doc.ents]\n",
        "print(type(entities))\n",
        "\n",
        "# Print the extracted entities\n",
        "for entity, label in entities:\n",
        "    #if label == 'PERSON':\n",
        "          print(f\"Entity: {entity}, Label: {label}\")"
      ],
      "metadata": {
        "colab": {
          "base_uri": "https://localhost:8080/"
        },
        "id": "F2s578Dic6Va",
        "outputId": "177a3b76-0078-4272-c579-f5442a106d48"
      },
      "execution_count": 13,
      "outputs": [
        {
          "output_type": "stream",
          "name": "stdout",
          "text": [
            "##### 1\n",
            "<class 'list'>\n",
            "Entity: 20/30,M.G.B, Label: MONEY\n",
            "Entity: APMC YARD, Label: PERSON\n",
            "Entity: Yeshwanthpur, Label: GPE\n",
            "Entity: GSTIN/UIN, Label: ORG\n",
            "Entity: 29AALFS8665E1ZK, Label: CARDINAL\n",
            "Entity: Karnataka, Label: PERSON\n",
            "Entity: Code, Label: PERSON\n",
            "Entity: 29, Label: CARDINAL\n",
            "Entity: 23378777,41283488, Label: CARDINAL\n",
            "Entity: Bill, Label: PERSON\n",
            "Entity: SRI MATHRU, Label: ORG\n",
            "Entity: KOLLEGAL, Label: ORG\n",
            "Entity: GSTIN/UIN, Label: ORG\n",
            "Entity: 29ACDPN2062N1ZA, Label: CARDINAL\n",
            "Entity: Karnataka, Label: PERSON\n",
            "Entity: Code, Label: PERSON\n",
            "Entity: 29Invoice, Label: CARDINAL\n",
            "Entity: 29, Label: CARDINAL\n",
            "Entity: 1TIGER, Label: CARDINAL\n",
            "Entity: 16,800.00, Label: CARDINAL\n",
            "Entity: 3,360.00, Label: CARDINAL\n",
            "Entity: 3,360.000 %, Label: PERCENT\n",
            "Entity: 1.50, Label: CARDINAL\n",
            "Entity: QTL, Label: GPE\n",
            "Entity: BAGS\n",
            ", Label: PERSON\n",
            "Entity: Amount Chargeable, Label: ORG\n",
            "Entity: Company, Label: ORG\n",
            "Entity: PAN, Label: ORG\n",
            "Entity: E. & O.E\n",
            "Company's Bank Details\n",
            "Bank Name :STATE BANK  , Label: ORG\n",
            "Entity: OF INDIA, Label: ORG\n",
            "Entity: MALLESWARAM, Label: ORG\n",
            "Entity: 31159886961, Label: CARDINAL\n",
            "Entity: Branch & IFS Code :MALLESWARAM & SBIN0007080\n",
            "SWIFT Code :, Label: ORG\n",
            "Entity: Authorised Signatory, Label: ORG\n",
            "Entity: a Computer Generated Invoice, Label: ORG\n"
          ]
        }
      ]
    },
    {
      "cell_type": "code",
      "source": [
        "# Print the extracted entities\n",
        "for entity, label in entities:\n",
        "    if label == 'PERSON':\n",
        "          print(f\"Entity: {entity}, Label: {label}\")"
      ],
      "metadata": {
        "colab": {
          "base_uri": "https://localhost:8080/"
        },
        "id": "FY7J-MNrdOvd",
        "outputId": "fb63db53-ae03-4de1-eb42-cf3b63772670"
      },
      "execution_count": 14,
      "outputs": [
        {
          "output_type": "stream",
          "name": "stdout",
          "text": [
            "Entity: APMC YARD, Label: PERSON\n",
            "Entity: Karnataka, Label: PERSON\n",
            "Entity: Code, Label: PERSON\n",
            "Entity: Bill, Label: PERSON\n",
            "Entity: Karnataka, Label: PERSON\n",
            "Entity: Code, Label: PERSON\n",
            "Entity: BAGS\n",
            ", Label: PERSON\n"
          ]
        }
      ]
    },
    {
      "cell_type": "code",
      "source": [],
      "metadata": {
        "id": "trNTvZwydVJf"
      },
      "execution_count": null,
      "outputs": []
    },
    {
      "cell_type": "code",
      "source": [
        "import tabula\n",
        "import spacy\n",
        "\n",
        "# Load the spaCy NLP model\n",
        "nlp = spacy.load(\"en_core_web_sm\")\n",
        "\n",
        "# Function to extract and process tables from a PDF\n",
        "def extract_and_process_tables(pdf_path):\n",
        "    # Extract tables from the PDF using tabula\n",
        "    tables = tabula.read_pdf(pdf_path, pages='all', multiple_tables=True)\n",
        "\n",
        "    # Process each table\n",
        "    for table in tables:\n",
        "        # Convert the table to a list of dictionaries\n",
        "        table_data = table.to_dict(orient=\"records\")\n",
        "\n",
        "        # Print the table data\n",
        "        print(\"Table Data:\")\n",
        "        #for row in table_data:\n",
        "            #print(row)\n",
        "\n",
        "        # Perform entity recognition on the table data using spaCy\n",
        "        for row in table_data:\n",
        "            for key, value in row.items():\n",
        "                doc = nlp(str(value))\n",
        "                for ent in doc.ents:\n",
        "                    print(f\"Entity in '{key}': '{ent.text}' (Label: {ent.label_})\")\n",
        "\n",
        "# Path to your invoice PDF\n",
        "pdf_path = 'A SALES-S03677-23-24-29-Aug-23.pdf'\n",
        "\n",
        "# Extract and process tables from the PDF\n",
        "extract_and_process_tables(pdf_path)\n"
      ],
      "metadata": {
        "colab": {
          "base_uri": "https://localhost:8080/"
        },
        "id": "GhSX4Rdw0tQU",
        "outputId": "83f786cd-2be4-47b8-96b8-d0d0f44e7418"
      },
      "execution_count": 16,
      "outputs": [
        {
          "output_type": "stream",
          "name": "stderr",
          "text": [
            "WARNING:tabula.io:java_options is ignored until rebooting the Python process.\n"
          ]
        },
        {
          "output_type": "stream",
          "name": "stdout",
          "text": [
            "Table Data:\n",
            "Entity in 'SURAJ DEV TRADING CO.': '20/30,M.G.B' (Label: MONEY)\n",
            "Entity in 'SURAJ DEV TRADING CO.': 'APMC YARD' (Label: PERSON)\n",
            "Entity in 'SURAJ DEV TRADING CO.': 'Yeshwanthpur' (Label: GPE)\n",
            "Entity in 'SURAJ DEV TRADING CO.': '9845741777' (Label: DATE)\n",
            "Entity in 'SURAJ DEV TRADING CO.': 'GSTIN/UIN' (Label: ORG)\n",
            "Entity in 'SURAJ DEV TRADING CO.': '29AALFS8665E1ZK' (Label: CARDINAL)\n",
            "Entity in 'SURAJ DEV TRADING CO.': 'Karnataka' (Label: PERSON)\n",
            "Entity in 'SURAJ DEV TRADING CO.': 'Code' (Label: PERSON)\n",
            "Entity in 'SURAJ DEV TRADING CO.': '29' (Label: CARDINAL)\n",
            "Entity in 'SURAJ DEV TRADING CO.': '23378777,41283488' (Label: CARDINAL)\n",
            "Entity in 'SURAJ DEV TRADING CO.': 'Bill' (Label: PERSON)\n",
            "Entity in 'SURAJ DEV TRADING CO.': 'KOLLEGAL' (Label: ORG)\n",
            "Entity in 'SURAJ DEV TRADING CO.': 'GSTIN/UIN' (Label: ORG)\n",
            "Entity in 'SURAJ DEV TRADING CO.': '29ACDPN2062N1ZA' (Label: CARDINAL)\n",
            "Entity in 'SURAJ DEV TRADING CO.': 'Karnataka' (Label: PERSON)\n",
            "Entity in 'SURAJ DEV TRADING CO.': 'Code' (Label: PERSON)\n",
            "Entity in 'SURAJ DEV TRADING CO.': '29' (Label: CARDINAL)\n",
            "Entity in 'SURAJ DEV TRADING CO.': 'Sl Description' (Label: PERSON)\n",
            "Entity in 'Invoice No. Dated': 'Net Quantity Rate' (Label: ORG)\n",
            "Entity in 'SURAJ DEV TRADING CO.': '1' (Label: CARDINAL)\n",
            "Entity in 'Unnamed: 0': '0 %' (Label: PERCENT)\n",
            "Entity in 'Invoice No. Dated': '3,360.00' (Label: CARDINAL)\n",
            "Entity in 'Invoice No. Dated': 'BAGS 3,360.00' (Label: PERSON)\n",
            "Entity in 'Invoice No. Dated': 'BAGS' (Label: PERSON)\n",
            "Entity in 'Unnamed: 1': '16,800.00' (Label: CARDINAL)\n",
            "Entity in 'Invoice No. Dated': '1.50' (Label: CARDINAL)\n",
            "Entity in 'Invoice No. Dated': 'QTL' (Label: GPE)\n",
            "Entity in 'Invoice No. Dated': '5.00' (Label: CARDINAL)\n",
            "Entity in 'Invoice No. Dated': 'BAGS' (Label: PERSON)\n",
            "Entity in 'Unnamed: 1': '16,800.00' (Label: CARDINAL)\n",
            "Entity in 'SURAJ DEV TRADING CO.': 'Amount Chargeable' (Label: ORG)\n",
            "Entity in 'Unnamed: 1': 'E. & O.E' (Label: ORG)\n",
            "Entity in 'Invoice No. Dated': 'Company’s Bank Details' (Label: ORG)\n",
            "Entity in 'Invoice No. Dated': 'OF INDIA' (Label: ORG)\n",
            "Entity in 'Invoice No. Dated': 'MALLESWARAM' (Label: ORG)\n",
            "Entity in 'Invoice No. Dated': '31159886961' (Label: CARDINAL)\n",
            "Entity in 'Invoice No. Dated': 'Branch & IFS Code : MALLESWARAM & SBIN0007080' (Label: ORG)\n",
            "Entity in 'SURAJ DEV TRADING CO.': 'PAN' (Label: ORG)\n",
            "Entity in 'SURAJ DEV TRADING CO.': 'AALFS8665E' (Label: ORG)\n"
          ]
        }
      ]
    },
    {
      "cell_type": "code",
      "source": [],
      "metadata": {
        "id": "yMP04C1o1QU2"
      },
      "execution_count": null,
      "outputs": []
    }
  ]
}